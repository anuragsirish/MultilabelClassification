{
 "cells": [
  {
   "cell_type": "markdown",
   "metadata": {
    "colab_type": "text",
    "id": "_0G9dpurWVSJ"
   },
   "source": [
    "# Predict tags on StackOverflow with linear models"
   ]
  },
  {
   "cell_type": "markdown",
   "metadata": {
    "colab_type": "text",
    "id": "BsMkjyM1WVSL"
   },
   "source": [
    "In this assignment you will learn how to predict tags for posts from [StackOverflow](https://stackoverflow.com). To solve this task you will use multilabel classification approach."
   ]
  },
  {
   "cell_type": "markdown",
   "metadata": {
    "colab_type": "text",
    "id": "vM4YKkHPWVSZ"
   },
   "source": [
    "### Text preprocessing"
   ]
  },
  {
   "cell_type": "markdown",
   "metadata": {
    "colab_type": "text",
    "id": "yDFNwAh0WVSZ"
   },
   "source": [
    "For this and most of the following assignments you will need to use a list of stop words. It can be downloaded from *nltk*:"
   ]
  },
  {
   "cell_type": "code",
   "execution_count": null,
   "metadata": {
    "colab": {
     "base_uri": "https://localhost:8080/",
     "height": 51
    },
    "colab_type": "code",
    "id": "3XK9E7AoWVSb",
    "outputId": "a52c3664-8c2e-449d-8243-d3cd31312401"
   },
   "outputs": [
    {
     "name": "stdout",
     "output_type": "stream",
     "text": [
      "[nltk_data] Downloading package stopwords to /root/nltk_data...\n",
      "[nltk_data]   Package stopwords is already up-to-date!\n"
     ]
    }
   ],
   "source": [
    "import nltk\n",
    "nltk.download('stopwords')\n",
    "from nltk.corpus import stopwords"
   ]
  },
  {
   "cell_type": "markdown",
   "metadata": {
    "colab_type": "text",
    "id": "47KlqxeNWVSe"
   },
   "source": [
    "In this task you will deal with a dataset of post titles from StackOverflow. You are provided a split to 3 sets: *train*, *validation* and *test*. All corpora (except for *test*) contain titles of the posts and corresponding tags (100 tags are available). The *test* set is provided for Coursera's grading and doesn't contain answers. Upload the corpora using *pandas* and look at the data:"
   ]
  },
  {
   "cell_type": "code",
   "execution_count": null,
   "metadata": {
    "colab": {},
    "colab_type": "code",
    "id": "qMnggRgoWVSf"
   },
   "outputs": [],
   "source": [
    "from ast import literal_eval\n",
    "import pandas as pd\n",
    "import numpy as np"
   ]
  },
  {
   "cell_type": "code",
   "execution_count": null,
   "metadata": {
    "colab": {},
    "colab_type": "code",
    "id": "-5nW1u6JWVSh"
   },
   "outputs": [],
   "source": [
    "def read_data(filename):\n",
    "    data = pd.read_csv(filename, sep='\\t')\n",
    "    data['tags'] = data['tags'].apply(literal_eval)\n",
    "    return data"
   ]
  },
  {
   "cell_type": "code",
   "execution_count": null,
   "metadata": {
    "colab": {},
    "colab_type": "code",
    "id": "7XJQUVv_WVSk"
   },
   "outputs": [],
   "source": [
    "train = read_data('data/train.tsv')\n",
    "validation = read_data('data/validation.tsv')\n",
    "test = pd.read_csv('data/test.tsv', sep='\\t')"
   ]
  },
  {
   "cell_type": "code",
   "execution_count": null,
   "metadata": {
    "colab": {
     "base_uri": "https://localhost:8080/",
     "height": 204
    },
    "colab_type": "code",
    "id": "YiVZWy2qWVSm",
    "outputId": "7b614c79-ed31-480d-a1e9-234217af0ddb"
   },
   "outputs": [
    {
     "data": {
      "text/html": [
       "<div>\n",
       "<style scoped>\n",
       "    .dataframe tbody tr th:only-of-type {\n",
       "        vertical-align: middle;\n",
       "    }\n",
       "\n",
       "    .dataframe tbody tr th {\n",
       "        vertical-align: top;\n",
       "    }\n",
       "\n",
       "    .dataframe thead th {\n",
       "        text-align: right;\n",
       "    }\n",
       "</style>\n",
       "<table border=\"1\" class=\"dataframe\">\n",
       "  <thead>\n",
       "    <tr style=\"text-align: right;\">\n",
       "      <th></th>\n",
       "      <th>title</th>\n",
       "      <th>tags</th>\n",
       "    </tr>\n",
       "  </thead>\n",
       "  <tbody>\n",
       "    <tr>\n",
       "      <th>0</th>\n",
       "      <td>Why odbc_exec always fail?</td>\n",
       "      <td>[php, sql]</td>\n",
       "    </tr>\n",
       "    <tr>\n",
       "      <th>1</th>\n",
       "      <td>Access a base classes variable from within a c...</td>\n",
       "      <td>[javascript]</td>\n",
       "    </tr>\n",
       "    <tr>\n",
       "      <th>2</th>\n",
       "      <td>Content-Type \"application/json\" not required i...</td>\n",
       "      <td>[ruby-on-rails, ruby]</td>\n",
       "    </tr>\n",
       "    <tr>\n",
       "      <th>3</th>\n",
       "      <td>Sessions in Sinatra: Used to Pass Variable</td>\n",
       "      <td>[ruby, session]</td>\n",
       "    </tr>\n",
       "    <tr>\n",
       "      <th>4</th>\n",
       "      <td>Getting error - type \"json\" does not exist - i...</td>\n",
       "      <td>[ruby-on-rails, ruby, json]</td>\n",
       "    </tr>\n",
       "  </tbody>\n",
       "</table>\n",
       "</div>"
      ],
      "text/plain": [
       "                                               title  \\\n",
       "0                         Why odbc_exec always fail?   \n",
       "1  Access a base classes variable from within a c...   \n",
       "2  Content-Type \"application/json\" not required i...   \n",
       "3         Sessions in Sinatra: Used to Pass Variable   \n",
       "4  Getting error - type \"json\" does not exist - i...   \n",
       "\n",
       "                          tags  \n",
       "0                   [php, sql]  \n",
       "1                 [javascript]  \n",
       "2        [ruby-on-rails, ruby]  \n",
       "3              [ruby, session]  \n",
       "4  [ruby-on-rails, ruby, json]  "
      ]
     },
     "execution_count": 77,
     "metadata": {
      "tags": []
     },
     "output_type": "execute_result"
    }
   ],
   "source": [
    "validation.head()"
   ]
  },
  {
   "cell_type": "markdown",
   "metadata": {
    "colab_type": "text",
    "id": "thI_XmcwWVSp"
   },
   "source": [
    "As you can see, *title* column contains titles of the posts and *tags* column contains the tags. It could be noticed that a number of tags for a post is not fixed and could be as many as necessary."
   ]
  },
  {
   "cell_type": "markdown",
   "metadata": {
    "colab_type": "text",
    "id": "igqLSNGoWVSq"
   },
   "source": [
    "For a more comfortable usage, initialize *X_train*, *X_val*, *X_test*, *y_train*, *y_val*."
   ]
  },
  {
   "cell_type": "code",
   "execution_count": null,
   "metadata": {
    "colab": {},
    "colab_type": "code",
    "id": "mc_truWOWVSr"
   },
   "outputs": [],
   "source": [
    "X_train, y_train = train['title'].values, train['tags'].values\n",
    "X_val, y_val = validation['title'].values, validation['tags'].values\n",
    "X_test = test['title'].values\n",
    "\n"
   ]
  },
  {
   "cell_type": "code",
   "execution_count": null,
   "metadata": {
    "colab": {
     "base_uri": "https://localhost:8080/",
     "height": 34
    },
    "colab_type": "code",
    "id": "g8lfJLD5gFvU",
    "outputId": "121af0b2-a4bb-4088-b996-c13f03b81736"
   },
   "outputs": [
    {
     "data": {
      "text/plain": [
       "100000"
      ]
     },
     "execution_count": 41,
     "metadata": {
      "tags": []
     },
     "output_type": "execute_result"
    }
   ],
   "source": [
    "len(y_train)"
   ]
  },
  {
   "cell_type": "markdown",
   "metadata": {
    "colab_type": "text",
    "id": "Nrny2kI_WVSt"
   },
   "source": [
    "One of the most known difficulties when working with natural data is that it's unstructured. For example, if you use it \"as is\" and extract tokens just by splitting the titles by whitespaces, you will see that there are many \"weird\" tokens like *3.5?*, *\"Flip*, etc. To prevent the problems, it's usually useful to prepare the data somehow. In this task you'll write a function, which will be also used in the other assignments. \n",
    "\n",
    "**Task 1 (TextPrepare).** Implement the function *text_prepare* following the instructions. After that, run the function *test_test_prepare* to test it on tiny cases and submit it to Coursera."
   ]
  },
  {
   "cell_type": "code",
   "execution_count": null,
   "metadata": {
    "colab": {},
    "colab_type": "code",
    "id": "iH0kK_uJWVSu"
   },
   "outputs": [],
   "source": [
    "import re"
   ]
  },
  {
   "cell_type": "code",
   "execution_count": null,
   "metadata": {
    "colab": {},
    "colab_type": "code",
    "id": "l_XO4qiFWVSx"
   },
   "outputs": [],
   "source": [
    "REPLACE_BY_SPACE_RE = re.compile('[/(){}\\[\\]\\|@,;]')\n",
    "BAD_SYMBOLS_RE = re.compile('[^0-9a-z #+_]')\n",
    "STOPWORDS = set(stopwords.words('english'))\n",
    "\n",
    "def text_prepare(text):\n",
    "    \"\"\"\n",
    "        text: a string\n",
    "        \n",
    "        return: modified initial string\n",
    "    \"\"\"\n",
    "    text = text.lower()\n",
    "    text = REPLACE_BY_SPACE_RE.sub(r' ',text) # replace REPLACE_BY_SPACE_RE symbols by space in text\n",
    "    text = BAD_SYMBOLS_RE.sub(r'',text) # delete symbols which are in BAD_SYMBOLS_RE from text\n",
    "    text = ' '.join([word for word in text.split() if word not in STOPWORDS])\n",
    "    return text"
   ]
  },
  {
   "cell_type": "code",
   "execution_count": null,
   "metadata": {
    "colab": {},
    "colab_type": "code",
    "id": "Yx97oEoEWVS1"
   },
   "outputs": [],
   "source": [
    "def test_text_prepare():\n",
    "    examples = [\"SQL Server - any equivalent of Excel's CHOOSE function?\",\n",
    "                \"How to free c++ memory vector<int> * arr?\"]\n",
    "    answers = [\"sql server equivalent excels choose function\", \n",
    "               \"free c++ memory vectorint arr\"]\n",
    "    for ex, ans in zip(examples, answers):\n",
    "        if text_prepare(ex) != ans:\n",
    "            return \"Wrong answer for the case: '%s'\" % ex\n",
    "    return 'Basic tests are passed.'"
   ]
  },
  {
   "cell_type": "code",
   "execution_count": null,
   "metadata": {
    "colab": {
     "base_uri": "https://localhost:8080/",
     "height": 34
    },
    "colab_type": "code",
    "id": "T2h3JpUBWVS3",
    "outputId": "8b82e3fb-e2bd-4aef-aa5e-c34a3651955d"
   },
   "outputs": [
    {
     "name": "stdout",
     "output_type": "stream",
     "text": [
      "Basic tests are passed.\n"
     ]
    }
   ],
   "source": [
    "print(test_text_prepare())"
   ]
  },
  {
   "cell_type": "markdown",
   "metadata": {
    "colab_type": "text",
    "id": "J-6haBK7WVS8"
   },
   "source": [
    "Run your implementation for questions from file *text_prepare_tests.tsv* to earn the points."
   ]
  },
  {
   "cell_type": "code",
   "execution_count": null,
   "metadata": {
    "colab": {
     "base_uri": "https://localhost:8080/",
     "height": 102
    },
    "colab_type": "code",
    "id": "DYQxd2hxWVS9",
    "outputId": "6071428b-8aa4-4222-fa7c-7473be5fb2f4"
   },
   "outputs": [
    {
     "name": "stdout",
     "output_type": "stream",
     "text": [
      "Current answer for task TextPrepare is:\n",
      " sqlite php readonly\n",
      "creating multiple textboxes dynamically\n",
      "self one prefer javascript\n",
      "save php date...\n"
     ]
    }
   ],
   "source": [
    "prepared_questions = []\n",
    "for line in open('data/text_prepare_tests.tsv', encoding='utf-8'):\n",
    "    line = text_prepare(line.strip())\n",
    "    prepared_questions.append(line)\n",
    "text_prepare_results = '\\n'.join(prepared_questions)\n",
    "\n",
    "grader.submit_tag('TextPrepare', text_prepare_results)\n",
    "\n",
    "\n"
   ]
  },
  {
   "cell_type": "markdown",
   "metadata": {
    "colab_type": "text",
    "id": "Qk60pxn_WVTB"
   },
   "source": [
    "Now we can preprocess the titles using function *text_prepare* and  making sure that the headers don't have bad symbols:"
   ]
  },
  {
   "cell_type": "code",
   "execution_count": null,
   "metadata": {
    "colab": {},
    "colab_type": "code",
    "id": "7FvrPvfgWVTC"
   },
   "outputs": [],
   "source": [
    "X_train = [text_prepare(x) for x in X_train]\n",
    "X_val = [text_prepare(x) for x in X_val]\n",
    "X_test = [text_prepare(x) for x in X_test]\n"
   ]
  },
  {
   "cell_type": "code",
   "execution_count": null,
   "metadata": {
    "colab": {
     "base_uri": "https://localhost:8080/",
     "height": 187
    },
    "colab_type": "code",
    "id": "rJjRLgYsWVTE",
    "outputId": "f92a266c-1e4a-4f82-80eb-32f17dc8e515"
   },
   "outputs": [
    {
     "data": {
      "text/plain": [
       "['draw stacked dotplot r',\n",
       " 'mysql select records datetime field less specified value',\n",
       " 'terminate windows phone 81 app',\n",
       " 'get current time specific country via jquery',\n",
       " 'configuring tomcat use ssl',\n",
       " 'awesome nested set plugin add new children tree various levels',\n",
       " 'create map json response ruby rails 3',\n",
       " 'rspec test method called',\n",
       " 'springboot catalina lifecycle exception',\n",
       " 'import data excel mysql database using php']"
      ]
     },
     "execution_count": 48,
     "metadata": {
      "tags": []
     },
     "output_type": "execute_result"
    }
   ],
   "source": [
    "X_train[:10]\n",
    "\n",
    "\n"
   ]
  },
  {
   "cell_type": "markdown",
   "metadata": {
    "colab_type": "text",
    "id": "MeFaQQdEWVTH"
   },
   "source": [
    "For each tag and for each word calculate how many times they occur in the train corpus. \n",
    "\n",
    "**Task 2 (WordsTagsCount).** Find 3 most popular tags and 3 most popular words in the train data and submit the results to earn the points."
   ]
  },
  {
   "cell_type": "code",
   "execution_count": null,
   "metadata": {
    "colab": {},
    "colab_type": "code",
    "id": "JZDWkTeYWVTI"
   },
   "outputs": [],
   "source": [
    "# Dictionary of all tags from train corpus with their counts.\n",
    "tags_counts = {}\n",
    "# Dictionary of all words from train corpus with their counts.\n",
    "words_counts = {}\n",
    "\n",
    "######################################\n",
    "######### YOUR CODE HERE #############\n",
    "######################################\n",
    "\n",
    "word_values = [y for x in X_train for y in x.split(' ') ]\n",
    "tag_values = [y for x in y_train for y in x ]\n",
    "\n",
    "for i in word_values:\n",
    "    words_counts[i] = words_counts.get(i, 0) + 1\n",
    "    \n",
    "    \n",
    "\n",
    "for i in tag_values:\n",
    "    tags_counts[i] = tags_counts.get(i, 0) + 1   \n",
    "\n",
    "\n",
    "        \n",
    "    "
   ]
  },
  {
   "cell_type": "markdown",
   "metadata": {
    "colab_type": "text",
    "id": "VVaewWraWVTK"
   },
   "source": [
    "We are assuming that *tags_counts* and *words_counts* are dictionaries like `{'some_word_or_tag': frequency}`. After applying the sorting procedure, results will be look like this: `[('most_popular_word_or_tag', frequency), ('less_popular_word_or_tag', frequency), ...]`. The grader gets the results in the following format (two comma-separated strings with line break):\n",
    "\n",
    "    tag1,tag2,tag3\n",
    "    word1,word2,word3\n",
    "\n",
    "Pay attention that in this assignment you should not submit frequencies or some additional information."
   ]
  },
  {
   "cell_type": "code",
   "execution_count": null,
   "metadata": {
    "colab": {
     "base_uri": "https://localhost:8080/",
     "height": 68
    },
    "colab_type": "code",
    "id": "NoU91UKyWVTL",
    "outputId": "be84ac9c-45b2-4735-ab49-17367c04662c"
   },
   "outputs": [
    {
     "name": "stdout",
     "output_type": "stream",
     "text": [
      "Current answer for task WordsTagsCount is:\n",
      " javascript,c#,java\n",
      "using,php,java...\n"
     ]
    }
   ],
   "source": [
    "most_common_tags = sorted(tags_counts.items(), key=lambda x: x[1], reverse=True)[:3]\n",
    "most_common_words = sorted(words_counts.items(), key=lambda x: x[1], reverse=True)[:3]\n",
    "\n",
    "grader.submit_tag('WordsTagsCount', '%s\\n%s' % (','.join(tag for tag, _ in most_common_tags), \n",
    "                                                ','.join(word for word, _ in most_common_words)))\n",
    "\n"
   ]
  },
  {
   "cell_type": "code",
   "execution_count": null,
   "metadata": {
    "colab": {
     "base_uri": "https://localhost:8080/",
     "height": 34
    },
    "colab_type": "code",
    "id": "MsFkKDqFWVTO",
    "outputId": "a00b9ef8-d38c-40db-d274-e4d2fec8ba39"
   },
   "outputs": [
    {
     "data": {
      "text/plain": [
       "[('using', 8278), ('php', 5614), ('java', 5501)]"
      ]
     },
     "execution_count": 51,
     "metadata": {
      "tags": []
     },
     "output_type": "execute_result"
    }
   ],
   "source": [
    "most_common_words"
   ]
  },
  {
   "cell_type": "code",
   "execution_count": null,
   "metadata": {
    "colab": {
     "base_uri": "https://localhost:8080/",
     "height": 34
    },
    "colab_type": "code",
    "id": "1-V2Iyi7XZss",
    "outputId": "a575d9c6-dc04-4ef7-ec6c-187bc96a9685"
   },
   "outputs": [
    {
     "data": {
      "text/plain": [
       "100"
      ]
     },
     "execution_count": 52,
     "metadata": {
      "tags": []
     },
     "output_type": "execute_result"
    }
   ],
   "source": [
    "len(set(tag_values))"
   ]
  },
  {
   "cell_type": "markdown",
   "metadata": {
    "colab_type": "text",
    "id": "0RW13_HcWVTQ"
   },
   "source": [
    "### Transforming text to a vector\n",
    "\n",
    "Machine Learning algorithms work with numeric data and we cannot use the provided text data \"as is\". There are many ways to transform text data to numeric vectors. In this task you will try to use two of them.\n",
    "\n",
    "#### Bag of words\n",
    "\n",
    "One of the well-known approaches is a *bag-of-words* representation. To create this transformation, follow the steps:\n",
    "1. Find *N* most popular words in train corpus and numerate them. Now we have a dictionary of the most popular words.\n",
    "2. For each title in the corpora create a zero vector with the dimension equals to *N*.\n",
    "3. For each text in the corpora iterate over words which are in the dictionary and increase by 1 the corresponding coordinate.\n",
    "\n",
    "Let's try to do it for a toy example. Imagine that we have *N* = 4 and the list of the most popular words is \n",
    "\n",
    "    ['hi', 'you', 'me', 'are']\n",
    "\n",
    "Then we need to numerate them, for example, like this: \n",
    "\n",
    "    {'hi': 0, 'you': 1, 'me': 2, 'are': 3}\n",
    "\n",
    "And we have the text, which we want to transform to the vector:\n",
    "\n",
    "    'hi how are you'\n",
    "\n",
    "For this text we create a corresponding zero vector \n",
    "\n",
    "    [0, 0, 0, 0]\n",
    "    \n",
    "And iterate over all words, and if the word is in the dictionary, we increase the value of the corresponding position in the vector:\n",
    "\n",
    "    'hi':  [1, 0, 0, 0]\n",
    "    'how': [1, 0, 0, 0] # word 'how' is not in our dictionary\n",
    "    'are': [1, 0, 0, 1]\n",
    "    'you': [1, 1, 0, 1]\n",
    "\n",
    "The resulting vector will be \n",
    "\n",
    "    [1, 1, 0, 1]\n",
    "   \n",
    "Implement the described encoding in the function *my_bag_of_words* with the size of the dictionary equals to 5000. To find the most common words use train data. You can test your code using the function *test_my_bag_of_words*."
   ]
  },
  {
   "cell_type": "code",
   "execution_count": null,
   "metadata": {
    "colab": {},
    "colab_type": "code",
    "id": "cSck2p57WVTQ"
   },
   "outputs": [],
   "source": [
    "DICT_SIZE = 5000\n",
    "\n",
    "words_f = sorted(words_counts.items(), key=lambda x: x[1], reverse=True)\n",
    "words_fu = [x[0] for x in words_f]\n",
    "\n",
    "INDEX_TO_WORDS = dict(enumerate(words_fu))\n",
    "\n",
    "\n",
    "WORDS_TO_INDEX = dict((v,k) for k,v in INDEX_TO_WORDS.items())\n",
    "\n",
    "####### YOUR CODE HERE #######\n",
    "ALL_WORDS = WORDS_TO_INDEX.keys()\n",
    "\n",
    "def my_bag_of_words(text, words_to_index, dict_size):\n",
    "    \"\"\"\n",
    "        text: a string\n",
    "        dict_size: size of the dictionary\n",
    "        \n",
    "        return a vector which is a bag-of-words representation of 'text'\n",
    "    \"\"\"\n",
    "    words_to_index = {k: words_to_index[k] for k in list(words_to_index)[:dict_size]}\n",
    "    result_vector = np.zeros(dict_size)\n",
    "    token_list = [token for token in text.split()]\n",
    "    for key,value in words_to_index.items():\n",
    "        if key in token_list:\n",
    "            result_vector[value] = 1\n",
    "\n",
    "            \n",
    "    return result_vector"
   ]
  },
  {
   "cell_type": "code",
   "execution_count": null,
   "metadata": {
    "colab": {
     "base_uri": "https://localhost:8080/",
     "height": 17034
    },
    "colab_type": "code",
    "id": "Yh0tD5XFhLa4",
    "outputId": "daf8ce1e-0451-4cc6-8050-4f67a155177f"
   },
   "outputs": [
    {
     "data": {
      "text/plain": [
       "{'using': 0,\n",
       " 'php': 1,\n",
       " 'java': 2,\n",
       " 'file': 3,\n",
       " 'javascript': 4,\n",
       " 'error': 5,\n",
       " 'get': 6,\n",
       " 'c#': 7,\n",
       " 'python': 8,\n",
       " 'string': 9,\n",
       " 'array': 10,\n",
       " 'data': 11,\n",
       " 'jquery': 12,\n",
       " 'value': 13,\n",
       " 'function': 14,\n",
       " 'object': 15,\n",
       " 'class': 16,\n",
       " 'use': 17,\n",
       " 'c++': 18,\n",
       " 'list': 19,\n",
       " 'method': 20,\n",
       " 'multiple': 21,\n",
       " 'text': 22,\n",
       " 'image': 23,\n",
       " 'page': 24,\n",
       " 'rails': 25,\n",
       " 'form': 26,\n",
       " 'create': 27,\n",
       " 'html': 28,\n",
       " 'type': 29,\n",
       " 'code': 30,\n",
       " 'set': 31,\n",
       " 'working': 32,\n",
       " 'database': 33,\n",
       " 'add': 34,\n",
       " 'convert': 35,\n",
       " 'mysql': 36,\n",
       " 'json': 37,\n",
       " 'c': 38,\n",
       " 'server': 39,\n",
       " 'variable': 40,\n",
       " 'android': 41,\n",
       " 'values': 42,\n",
       " 'aspnet': 43,\n",
       " 'way': 44,\n",
       " 'application': 45,\n",
       " 'change': 46,\n",
       " 'button': 47,\n",
       " 'find': 48,\n",
       " 'django': 49,\n",
       " 'one': 50,\n",
       " 'without': 51,\n",
       " 'windows': 52,\n",
       " 'cannot': 53,\n",
       " 'table': 54,\n",
       " 'call': 55,\n",
       " 'files': 56,\n",
       " 'ajax': 57,\n",
       " 'check': 58,\n",
       " 'time': 59,\n",
       " 'name': 60,\n",
       " 'two': 61,\n",
       " 'ruby': 62,\n",
       " 'getting': 63,\n",
       " 'date': 64,\n",
       " 'web': 65,\n",
       " 'make': 66,\n",
       " 'input': 67,\n",
       " 'user': 68,\n",
       " 'xml': 69,\n",
       " 'app': 70,\n",
       " 'another': 71,\n",
       " 'element': 72,\n",
       " 'custom': 73,\n",
       " 'event': 74,\n",
       " 'api': 75,\n",
       " 'access': 76,\n",
       " 'url': 77,\n",
       " 'number': 78,\n",
       " 'spring': 79,\n",
       " 'view': 80,\n",
       " 'sql': 81,\n",
       " 'return': 82,\n",
       " 'mvc': 83,\n",
       " 'select': 84,\n",
       " 'google': 85,\n",
       " 'query': 86,\n",
       " 'inside': 87,\n",
       " 'exception': 88,\n",
       " 'display': 89,\n",
       " 'column': 90,\n",
       " 'read': 91,\n",
       " 'loop': 92,\n",
       " 'swift': 93,\n",
       " 'new': 94,\n",
       " 'work': 95,\n",
       " 'remove': 96,\n",
       " 'load': 97,\n",
       " 'r': 98,\n",
       " 'objects': 99,\n",
       " 'property': 100,\n",
       " 'line': 101,\n",
       " 'cant': 102,\n",
       " 'pass': 103,\n",
       " 'click': 104,\n",
       " 'framework': 105,\n",
       " 'update': 106,\n",
       " 'script': 107,\n",
       " 'vs': 108,\n",
       " 'post': 109,\n",
       " 'null': 110,\n",
       " '2': 111,\n",
       " 'creating': 112,\n",
       " 'net': 113,\n",
       " 'request': 114,\n",
       " 'different': 115,\n",
       " 'field': 116,\n",
       " 'key': 117,\n",
       " 'run': 118,\n",
       " 'row': 119,\n",
       " 'doesnt': 120,\n",
       " 'ios': 121,\n",
       " 'service': 122,\n",
       " 'linq': 123,\n",
       " 'div': 124,\n",
       " 'open': 125,\n",
       " 'window': 126,\n",
       " 'project': 127,\n",
       " 'wpf': 128,\n",
       " 'format': 129,\n",
       " 'best': 130,\n",
       " 'show': 131,\n",
       " 'controller': 132,\n",
       " 'variables': 133,\n",
       " 'undefined': 134,\n",
       " 'specific': 135,\n",
       " 'dynamically': 136,\n",
       " 'adding': 137,\n",
       " 'based': 138,\n",
       " 'angularjs': 139,\n",
       " 'control': 140,\n",
       " 'parameter': 141,\n",
       " 'send': 142,\n",
       " 'model': 143,\n",
       " '3': 144,\n",
       " 'library': 145,\n",
       " 'difference': 146,\n",
       " 'insert': 147,\n",
       " 'first': 148,\n",
       " 'passing': 149,\n",
       " 'vbnet': 150,\n",
       " 'js': 151,\n",
       " 'regex': 152,\n",
       " 'elements': 153,\n",
       " 'codeigniter': 154,\n",
       " 'eclipse': 155,\n",
       " 'within': 156,\n",
       " 'path': 157,\n",
       " 'dynamic': 158,\n",
       " 'visual': 159,\n",
       " 'memory': 160,\n",
       " 'connection': 161,\n",
       " 'possible': 162,\n",
       " 'id': 163,\n",
       " 'thread': 164,\n",
       " 'save': 165,\n",
       " 'default': 166,\n",
       " 'via': 167,\n",
       " '+': 168,\n",
       " 'running': 169,\n",
       " 'size': 170,\n",
       " 'program': 171,\n",
       " 'found': 172,\n",
       " 'content': 173,\n",
       " 'reference': 174,\n",
       " 'issue': 175,\n",
       " 'attribute': 176,\n",
       " 'write': 177,\n",
       " 'studio': 178,\n",
       " 'laravel': 179,\n",
       " 'search': 180,\n",
       " 'test': 181,\n",
       " 'excel': 182,\n",
       " 'static': 183,\n",
       " 'session': 184,\n",
       " 'output': 185,\n",
       " 'http': 186,\n",
       " 'character': 187,\n",
       " 'characters': 188,\n",
       " 'entity': 189,\n",
       " 'current': 190,\n",
       " 'problem': 191,\n",
       " 'client': 192,\n",
       " 'calling': 193,\n",
       " 'empty': 194,\n",
       " 'simple': 195,\n",
       " 'int': 196,\n",
       " 'css': 197,\n",
       " 'parameters': 198,\n",
       " 'upload': 199,\n",
       " 'command': 200,\n",
       " 'reading': 201,\n",
       " 'directory': 202,\n",
       " 'validation': 203,\n",
       " '1': 204,\n",
       " 'map': 205,\n",
       " 'hibernate': 206,\n",
       " 'selected': 207,\n",
       " 'textbox': 208,\n",
       " 'unable': 209,\n",
       " 'browser': 210,\n",
       " 'images': 211,\n",
       " 'item': 212,\n",
       " 'link': 213,\n",
       " 'index': 214,\n",
       " 'facebook': 215,\n",
       " 'expression': 216,\n",
       " 'store': 217,\n",
       " 'setting': 218,\n",
       " 'delete': 219,\n",
       " 'single': 220,\n",
       " 'template': 221,\n",
       " 'like': 222,\n",
       " 'statement': 223,\n",
       " 'strings': 224,\n",
       " 'rows': 225,\n",
       " 'failed': 226,\n",
       " 'header': 227,\n",
       " 'replace': 228,\n",
       " 'loading': 229,\n",
       " 'login': 230,\n",
       " 'box': 231,\n",
       " 'iphone': 232,\n",
       " '4': 233,\n",
       " 'numbers': 234,\n",
       " 'color': 235,\n",
       " 'nested': 236,\n",
       " 'returning': 237,\n",
       " 'print': 238,\n",
       " 'instance': 239,\n",
       " 'background': 240,\n",
       " 'pdf': 241,\n",
       " 'char': 242,\n",
       " 'parse': 243,\n",
       " 'could': 244,\n",
       " 'disable': 245,\n",
       " 'bootstrap': 246,\n",
       " 'message': 247,\n",
       " 'csv': 248,\n",
       " 'module': 249,\n",
       " 'tag': 250,\n",
       " 'chrome': 251,\n",
       " 'converting': 252,\n",
       " 'x': 253,\n",
       " 'parent': 254,\n",
       " 'invalid': 255,\n",
       " 'returns': 256,\n",
       " 'local': 257,\n",
       " 'methods': 258,\n",
       " 'need': 259,\n",
       " 'connect': 260,\n",
       " 'email': 261,\n",
       " 'changing': 262,\n",
       " 'trying': 263,\n",
       " 'response': 264,\n",
       " 'functions': 265,\n",
       " 'install': 266,\n",
       " 'redirect': 267,\n",
       " 'angular': 268,\n",
       " 'order': 269,\n",
       " 'dictionary': 270,\n",
       " 'arrays': 271,\n",
       " 'dropdown': 272,\n",
       " 'classes': 273,\n",
       " 'folder': 274,\n",
       " 'generate': 275,\n",
       " 'bar': 276,\n",
       " 'submit': 277,\n",
       " 'pandas': 278,\n",
       " 'process': 279,\n",
       " 'columns': 280,\n",
       " 'child': 281,\n",
       " 'source': 282,\n",
       " 'checkbox': 283,\n",
       " 'integer': 284,\n",
       " 'count': 285,\n",
       " 'sending': 286,\n",
       " 'parsing': 287,\n",
       " 'items': 288,\n",
       " 'start': 289,\n",
       " 'detect': 290,\n",
       " 'double': 291,\n",
       " 'datetime': 292,\n",
       " 'hide': 293,\n",
       " 'fields': 294,\n",
       " 'jsp': 295,\n",
       " 'console': 296,\n",
       " 'gridview': 297,\n",
       " 'pointer': 298,\n",
       " 'selenium': 299,\n",
       " 'linux': 300,\n",
       " 'constructor': 301,\n",
       " 'import': 302,\n",
       " 'random': 303,\n",
       " '7': 304,\n",
       " 'programmatically': 305,\n",
       " 'action': 306,\n",
       " 'collection': 307,\n",
       " 'instead': 308,\n",
       " 'version': 309,\n",
       " 'datagridview': 310,\n",
       " 'filter': 311,\n",
       " 'sort': 312,\n",
       " 'objectivec': 313,\n",
       " 'website': 314,\n",
       " 'generic': 315,\n",
       " 'last': 316,\n",
       " 'result': 317,\n",
       " 'build': 318,\n",
       " 'system': 319,\n",
       " 'download': 320,\n",
       " 'split': 321,\n",
       " 'properties': 322,\n",
       " 'interface': 323,\n",
       " 'iframe': 324,\n",
       " 'back': 325,\n",
       " 'nodejs': 326,\n",
       " 'cell': 327,\n",
       " 'binding': 328,\n",
       " 'arguments': 329,\n",
       " 'datatable': 330,\n",
       " '5': 331,\n",
       " 'syntax': 332,\n",
       " 'xcode': 333,\n",
       " 'scroll': 334,\n",
       " 'onclick': 335,\n",
       " 'binary': 336,\n",
       " 'external': 337,\n",
       " 'position': 338,\n",
       " 'execute': 339,\n",
       " '0': 340,\n",
       " 'socket': 341,\n",
       " 'rest': 342,\n",
       " 'called': 343,\n",
       " 'missing': 344,\n",
       " 'word': 345,\n",
       " 'maps': 346,\n",
       " 'implement': 347,\n",
       " 'typeerror': 348,\n",
       " 'byte': 349,\n",
       " 'whats': 350,\n",
       " 'extension': 351,\n",
       " 'copy': 352,\n",
       " 'refresh': 353,\n",
       " 'video': 354,\n",
       " 'menu': 355,\n",
       " 'match': 356,\n",
       " 'given': 357,\n",
       " 'argument': 358,\n",
       " 'node': 359,\n",
       " 'wordpress': 360,\n",
       " 'include': 361,\n",
       " 'retrieve': 362,\n",
       " 'regular': 363,\n",
       " 'accessing': 364,\n",
       " 'forms': 365,\n",
       " 'canvas': 366,\n",
       " 'showing': 367,\n",
       " 'document': 368,\n",
       " 'results': 369,\n",
       " 'ui': 370,\n",
       " 'runtime': 371,\n",
       " 'arraylist': 372,\n",
       " 'defined': 373,\n",
       " 'handle': 374,\n",
       " 'drop': 375,\n",
       " 'group': 376,\n",
       " 'apache': 377,\n",
       " 'errors': 378,\n",
       " 'large': 379,\n",
       " 'opencv': 380,\n",
       " 'height': 381,\n",
       " 'compare': 382,\n",
       " 'wcf': 383,\n",
       " 'address': 384,\n",
       " 'ie': 385,\n",
       " 'mobile': 386,\n",
       " 'many': 387,\n",
       " 'properly': 388,\n",
       " 'member': 389,\n",
       " 'equivalent': 390,\n",
       " '8': 391,\n",
       " 'screen': 392,\n",
       " 'exists': 393,\n",
       " 'global': 394,\n",
       " 'plugin': 395,\n",
       " 'password': 396,\n",
       " 'expected': 397,\n",
       " 'vector': 398,\n",
       " 'events': 399,\n",
       " 'jar': 400,\n",
       " 'maven': 401,\n",
       " 'length': 402,\n",
       " 'location': 403,\n",
       " 'writing': 404,\n",
       " 'types': 405,\n",
       " 'numpy': 406,\n",
       " 'servlet': 407,\n",
       " 'html5': 408,\n",
       " 'extract': 409,\n",
       " 'width': 410,\n",
       " 'stored': 411,\n",
       " 'close': 412,\n",
       " 'dataframe': 413,\n",
       " 'dialog': 414,\n",
       " 'certain': 415,\n",
       " 'help': 416,\n",
       " 'used': 417,\n",
       " 'range': 418,\n",
       " 'style': 419,\n",
       " 'names': 420,\n",
       " 'handling': 421,\n",
       " 'prevent': 422,\n",
       " 'automatically': 423,\n",
       " 'works': 424,\n",
       " 'resource': 425,\n",
       " 'magento': 426,\n",
       " 'every': 427,\n",
       " 'tomcat': 428,\n",
       " 'fails': 429,\n",
       " 'cast': 430,\n",
       " 'created': 431,\n",
       " 'pattern': 432,\n",
       " 'warning': 433,\n",
       " 'frame': 434,\n",
       " 'popup': 435,\n",
       " 'wrong': 436,\n",
       " 'contains': 437,\n",
       " 'validate': 438,\n",
       " 'displaying': 439,\n",
       " 'enum': 440,\n",
       " 'updating': 441,\n",
       " 'qt': 442,\n",
       " 'curl': 443,\n",
       " 'package': 444,\n",
       " 'stop': 445,\n",
       " 'must': 446,\n",
       " 'testing': 447,\n",
       " 'listview': 448,\n",
       " 'operator': 449,\n",
       " '2d': 450,\n",
       " 'space': 451,\n",
       " 'put': 452,\n",
       " 'authentication': 453,\n",
       " 'context': 454,\n",
       " 'conversion': 455,\n",
       " 'keys': 456,\n",
       " 'auto': 457,\n",
       " 'structure': 458,\n",
       " 'callback': 459,\n",
       " 'main': 460,\n",
       " 'saving': 461,\n",
       " 'token': 462,\n",
       " 'end': 463,\n",
       " 'exist': 464,\n",
       " 'long': 465,\n",
       " 'tab': 466,\n",
       " 'db': 467,\n",
       " 'problems': 468,\n",
       " 'foreach': 469,\n",
       " 'existing': 470,\n",
       " 'dll': 471,\n",
       " 'always': 472,\n",
       " 'block': 473,\n",
       " 'sorting': 474,\n",
       " 'grid': 475,\n",
       " 'finding': 476,\n",
       " 'matplotlib': 477,\n",
       " 'remote': 478,\n",
       " 'sqlite': 479,\n",
       " 'buttons': 480,\n",
       " 'option': 481,\n",
       " 'bind': 482,\n",
       " 'determine': 483,\n",
       " 'modal': 484,\n",
       " 'firefox': 485,\n",
       " 'stream': 486,\n",
       " 'performance': 487,\n",
       " 'tags': 488,\n",
       " 'label': 489,\n",
       " 'plot': 490,\n",
       " 'mac': 491,\n",
       " 'join': 492,\n",
       " 'decimal': 493,\n",
       " 'combobox': 494,\n",
       " 'uncaught': 495,\n",
       " 'phone': 496,\n",
       " 'radio': 497,\n",
       " 'example': 498,\n",
       " 'chart': 499,\n",
       " 'compile': 500,\n",
       " 'unexpected': 501,\n",
       " 'attributes': 502,\n",
       " 'dom': 503,\n",
       " 'checking': 504,\n",
       " 'correctly': 505,\n",
       " 'right': 506,\n",
       " 'tables': 507,\n",
       " 'point': 508,\n",
       " 'installing': 509,\n",
       " 'lines': 510,\n",
       " 'base': 511,\n",
       " 'mouse': 512,\n",
       " 'float': 513,\n",
       " 'users': 514,\n",
       " 'basic': 515,\n",
       " 'support': 516,\n",
       " 'struct': 517,\n",
       " 'tree': 518,\n",
       " 'making': 519,\n",
       " 'unit': 520,\n",
       " 'unique': 521,\n",
       " 'scope': 522,\n",
       " 'threads': 523,\n",
       " 'correct': 524,\n",
       " 'hash': 525,\n",
       " 'duplicate': 526,\n",
       " 'catch': 527,\n",
       " 'next': 528,\n",
       " 'handler': 529,\n",
       " 'mean': 530,\n",
       " 'already': 531,\n",
       " 'wont': 532,\n",
       " 'even': 533,\n",
       " 'good': 534,\n",
       " 'edit': 535,\n",
       " 'task': 536,\n",
       " 'admin': 537,\n",
       " 'uitableview': 538,\n",
       " 'removing': 539,\n",
       " 'matrix': 540,\n",
       " 'namespace': 541,\n",
       " 'contents': 542,\n",
       " 'pages': 543,\n",
       " 'valid': 544,\n",
       " 'graph': 545,\n",
       " 'dates': 546,\n",
       " 'lists': 547,\n",
       " 'sdk': 548,\n",
       " 'log': 549,\n",
       " 'encoding': 550,\n",
       " 'const': 551,\n",
       " 'debug': 552,\n",
       " 'objective': 553,\n",
       " 'case': 554,\n",
       " 'calculate': 555,\n",
       " 'changes': 556,\n",
       " 'site': 557,\n",
       " 'programming': 558,\n",
       " 'configuration': 559,\n",
       " 'storing': 560,\n",
       " 'side': 561,\n",
       " 'active': 562,\n",
       " 'sum': 563,\n",
       " 'full': 564,\n",
       " 'limit': 565,\n",
       " 'keep': 566,\n",
       " 'jpa': 567,\n",
       " 'top': 568,\n",
       " 'listbox': 569,\n",
       " 'implementation': 570,\n",
       " 'animation': 571,\n",
       " 'unicode': 572,\n",
       " 'append': 573,\n",
       " 'override': 574,\n",
       " 'printing': 575,\n",
       " 'mongodb': 576,\n",
       " 'twitter': 577,\n",
       " 'allow': 578,\n",
       " 'record': 579,\n",
       " 'winforms': 580,\n",
       " 'part': 581,\n",
       " 'resize': 582,\n",
       " 'utf8': 583,\n",
       " 'core': 584,\n",
       " 'lambda': 585,\n",
       " 'loaded': 586,\n",
       " 'mail': 587,\n",
       " 'ip': 588,\n",
       " 'security': 589,\n",
       " 'controls': 590,\n",
       " 'play': 591,\n",
       " 'times': 592,\n",
       " 'pdo': 593,\n",
       " 'layout': 594,\n",
       " 'selection': 595,\n",
       " 'async': 596,\n",
       " 'fatal': 597,\n",
       " 'game': 598,\n",
       " 'records': 599,\n",
       " 'bean': 600,\n",
       " 'language': 601,\n",
       " 'boolean': 602,\n",
       " 'webdriver': 603,\n",
       " 'cookie': 604,\n",
       " 'draw': 605,\n",
       " 'constant': 606,\n",
       " 'switch': 607,\n",
       " 'outside': 608,\n",
       " 'cakephp': 609,\n",
       " 'domain': 610,\n",
       " 'gui': 611,\n",
       " 'force': 612,\n",
       " 'unknown': 613,\n",
       " 'true': 614,\n",
       " 'inserting': 615,\n",
       " 'assign': 616,\n",
       " 'wait': 617,\n",
       " 'port': 618,\n",
       " 'false': 619,\n",
       " 'mode': 620,\n",
       " '20': 621,\n",
       " 'slow': 622,\n",
       " 'named': 623,\n",
       " 'state': 624,\n",
       " 'focus': 625,\n",
       " 'oracle': 626,\n",
       " 'issues': 627,\n",
       " 'requests': 628,\n",
       " 'mapping': 629,\n",
       " 'netbeans': 630,\n",
       " 'available': 631,\n",
       " 'condition': 632,\n",
       " 'multidimensional': 633,\n",
       " 'enable': 634,\n",
       " 'generated': 635,\n",
       " 'ubuntu': 636,\n",
       " 'assembly': 637,\n",
       " 'jdbc': 638,\n",
       " 'uploading': 639,\n",
       " 'clicked': 640,\n",
       " 'device': 641,\n",
       " 'gem': 642,\n",
       " 'populate': 643,\n",
       " 'yii': 644,\n",
       " 'specified': 645,\n",
       " 'swing': 646,\n",
       " 'soap': 647,\n",
       " 'required': 648,\n",
       " 'special': 649,\n",
       " 'engine': 650,\n",
       " 'initialize': 651,\n",
       " 'checked': 652,\n",
       " 'exceptions': 653,\n",
       " '2010': 654,\n",
       " 'executing': 655,\n",
       " 'know': 656,\n",
       " 'network': 657,\n",
       " 'bad': 658,\n",
       " 'native': 659,\n",
       " 'avoid': 660,\n",
       " 'tkinter': 661,\n",
       " 'javafx': 662,\n",
       " 'try': 663,\n",
       " 'design': 664,\n",
       " '6': 665,\n",
       " 'timeout': 666,\n",
       " 'month': 667,\n",
       " 'export': 668,\n",
       " 'webservice': 669,\n",
       " 'efficient': 670,\n",
       " 'trigger': 671,\n",
       " 'n': 672,\n",
       " 'want': 673,\n",
       " '404': 674,\n",
       " 'heroku': 675,\n",
       " 'move': 676,\n",
       " 'question': 677,\n",
       " 'os': 678,\n",
       " 'component': 679,\n",
       " 'timer': 680,\n",
       " 'dont': 681,\n",
       " 'iterate': 682,\n",
       " 'stack': 683,\n",
       " '10': 684,\n",
       " 'zend': 685,\n",
       " 'words': 686,\n",
       " 'body': 687,\n",
       " 'textarea': 688,\n",
       " 'views': 689,\n",
       " 'implementing': 690,\n",
       " 'compiler': 691,\n",
       " 'clicking': 692,\n",
       " 'linked': 693,\n",
       " 'symbol': 694,\n",
       " 'clear': 695,\n",
       " 'render': 696,\n",
       " 'flask': 697,\n",
       " 'root': 698,\n",
       " 'navigation': 699,\n",
       " 'symfony2': 700,\n",
       " 'second': 701,\n",
       " 'define': 702,\n",
       " 'datagrid': 703,\n",
       " 'pointers': 704,\n",
       " 'fill': 705,\n",
       " 'ssl': 706,\n",
       " 'inheritance': 707,\n",
       " 'private': 708,\n",
       " 'route': 709,\n",
       " 'procedure': 710,\n",
       " 'particular': 711,\n",
       " 'rspec': 712,\n",
       " 'information': 713,\n",
       " 'left': 714,\n",
       " 'scrolling': 715,\n",
       " 'declaration': 716,\n",
       " 'status': 717,\n",
       " 'behind': 718,\n",
       " 'bytes': 719,\n",
       " 'fetch': 720,\n",
       " 'fix': 721,\n",
       " 'services': 722,\n",
       " 'calendar': 723,\n",
       " 'reflection': 724,\n",
       " 'push': 725,\n",
       " 'spaces': 726,\n",
       " 'algorithm': 727,\n",
       " 'xpath': 728,\n",
       " 'alert': 729,\n",
       " 'apply': 730,\n",
       " 'cache': 731,\n",
       " 'integers': 732,\n",
       " 'youtube': 733,\n",
       " 'development': 734,\n",
       " 'calls': 735,\n",
       " 'dependency': 736,\n",
       " 'options': 737,\n",
       " 'maximum': 738,\n",
       " 'hex': 739,\n",
       " 'max': 740,\n",
       " 'https': 741,\n",
       " 'usage': 742,\n",
       " 'progress': 743,\n",
       " 'target': 744,\n",
       " 'previous': 745,\n",
       " 'environment': 746,\n",
       " 'models': 747,\n",
       " 'merge': 748,\n",
       " 'title': 749,\n",
       " 'practice': 750,\n",
       " 'internet': 751,\n",
       " 'comparing': 752,\n",
       " 'changed': 753,\n",
       " 'headers': 754,\n",
       " 'notification': 755,\n",
       " 'driver': 756,\n",
       " 'libraries': 757,\n",
       " 'boost': 758,\n",
       " 'matching': 759,\n",
       " 'apps': 760,\n",
       " 'statements': 761,\n",
       " 'panel': 762,\n",
       " 'symfony': 763,\n",
       " 'shared': 764,\n",
       " 'font': 765,\n",
       " 'opengl': 766,\n",
       " 'tests': 767,\n",
       " 'processing': 768,\n",
       " 'comma': 769,\n",
       " 'public': 770,\n",
       " 'xaml': 771,\n",
       " 'installed': 772,\n",
       " 'datepicker': 773,\n",
       " 'separate': 774,\n",
       " 'standard': 775,\n",
       " 'icon': 776,\n",
       " 'resources': 777,\n",
       " 'directive': 778,\n",
       " 'report': 779,\n",
       " 'abstract': 780,\n",
       " 'links': 781,\n",
       " 'htaccess': 782,\n",
       " 'better': 783,\n",
       " 'hidden': 784,\n",
       " 'container': 785,\n",
       " 'serialize': 786,\n",
       " 'debugging': 787,\n",
       " 'logging': 788,\n",
       " 'would': 789,\n",
       " 'asp': 790,\n",
       " 'resolve': 791,\n",
       " 'autocomplete': 792,\n",
       " 'junit': 793,\n",
       " 'configure': 794,\n",
       " 'ggplot2': 795,\n",
       " 'react': 796,\n",
       " 'see': 797,\n",
       " 'hashmap': 798,\n",
       " 'partial': 799,\n",
       " 'alternative': 800,\n",
       " 'queries': 801,\n",
       " 'selecting': 802,\n",
       " 'visible': 803,\n",
       " 'echo': 804,\n",
       " 'messages': 805,\n",
       " 'returned': 806,\n",
       " 'throws': 807,\n",
       " 'devise': 808,\n",
       " 'something': 809,\n",
       " 'keyboard': 810,\n",
       " 'proxy': 811,\n",
       " 'svg': 812,\n",
       " 'checkboxes': 813,\n",
       " 'declare': 814,\n",
       " 'generating': 815,\n",
       " 'denied': 816,\n",
       " 'take': 817,\n",
       " 'jtable': 818,\n",
       " 'whether': 819,\n",
       " 'coordinates': 820,\n",
       " 'escape': 821,\n",
       " 'operation': 822,\n",
       " 'quotes': 823,\n",
       " 'causes': 824,\n",
       " 'virtual': 825,\n",
       " 'formatting': 826,\n",
       " 'extjs': 827,\n",
       " 'day': 828,\n",
       " 'drag': 829,\n",
       " 'jsf': 830,\n",
       " 'reload': 831,\n",
       " 'drawing': 832,\n",
       " 'setup': 833,\n",
       " 'contain': 834,\n",
       " 'shell': 835,\n",
       " 'product': 836,\n",
       " 'dataset': 837,\n",
       " 'intellij': 838,\n",
       " 'machine': 839,\n",
       " 'delegate': 840,\n",
       " 'webpage': 841,\n",
       " 'entities': 842,\n",
       " 'rendering': 843,\n",
       " 'queue': 844,\n",
       " 'strange': 845,\n",
       " 'phonegap': 846,\n",
       " 'containing': 847,\n",
       " 'cells': 848,\n",
       " 'applications': 849,\n",
       " 'twice': 850,\n",
       " 'dropdownlist': 851,\n",
       " 'connecting': 852,\n",
       " 'inline': 853,\n",
       " 'per': 854,\n",
       " 'execution': 855,\n",
       " 'gcc': 856,\n",
       " 'blank': 857,\n",
       " 'relationship': 858,\n",
       " 'uiview': 859,\n",
       " 'level': 860,\n",
       " 'opening': 861,\n",
       " 'ms': 862,\n",
       " 'conditional': 863,\n",
       " 'razor': 864,\n",
       " 'serialization': 865,\n",
       " 'gives': 866,\n",
       " 'widget': 867,\n",
       " 'initialization': 868,\n",
       " 'relative': 869,\n",
       " 'modify': 870,\n",
       " 'safe': 871,\n",
       " 'etc': 872,\n",
       " 'internal': 873,\n",
       " 'nodes': 874,\n",
       " 'jqgrid': 875,\n",
       " 'definition': 876,\n",
       " 'timestamp': 877,\n",
       " 'capture': 878,\n",
       " 'batch': 879,\n",
       " 'importing': 880,\n",
       " 'building': 881,\n",
       " 'retrieving': 882,\n",
       " 'expressions': 883,\n",
       " 'compiling': 884,\n",
       " 'else': 885,\n",
       " 'allowed': 886,\n",
       " 'added': 887,\n",
       " 'still': 888,\n",
       " 'numeric': 889,\n",
       " 'tcp': 890,\n",
       " 'year': 891,\n",
       " 'host': 892,\n",
       " 'sqlalchemy': 893,\n",
       " 'seconds': 894,\n",
       " 'doctrine': 895,\n",
       " 'boot': 896,\n",
       " 'highcharts': 897,\n",
       " 'cookies': 898,\n",
       " 'selector': 899,\n",
       " 'href': 900,\n",
       " 'nsstring': 901,\n",
       " 'foreign': 902,\n",
       " 'jframe': 903,\n",
       " 'jackson': 904,\n",
       " 'starting': 905,\n",
       " 'config': 906,\n",
       " 'annotation': 907,\n",
       " 'embedded': 908,\n",
       " 'fast': 909,\n",
       " 'reset': 910,\n",
       " 'protocol': 911,\n",
       " 'touch': 912,\n",
       " 'injection': 913,\n",
       " 'section': 914,\n",
       " 'firing': 915,\n",
       " 'tabs': 916,\n",
       " 'jaxb': 917,\n",
       " 'webbrowser': 918,\n",
       " 'ascii': 919,\n",
       " 'points': 920,\n",
       " 'closing': 921,\n",
       " 'overriding': 922,\n",
       " 'transaction': 923,\n",
       " 'postgresql': 924,\n",
       " 'trouble': 925,\n",
       " 'hover': 926,\n",
       " 'sharepoint': 927,\n",
       " 'passed': 928,\n",
       " 'labels': 929,\n",
       " 'cursor': 930,\n",
       " 'able': 931,\n",
       " 'gwt': 932,\n",
       " 'recursive': 933,\n",
       " 'specify': 934,\n",
       " 'sequence': 935,\n",
       " 'localhost': 936,\n",
       " 'explorer': 937,\n",
       " 'urls': 938,\n",
       " 'asynchronous': 939,\n",
       " 'assignment': 940,\n",
       " 'replacing': 941,\n",
       " 'deploy': 942,\n",
       " 'fixed': 943,\n",
       " 'webview': 944,\n",
       " 'giving': 945,\n",
       " 'days': 946,\n",
       " 'templates': 947,\n",
       " 'exit': 948,\n",
       " 'fastest': 949,\n",
       " 'base64': 950,\n",
       " 'anchor': 951,\n",
       " 'restful': 952,\n",
       " 'deleting': 953,\n",
       " 'toggle': 954,\n",
       " 'axis': 955,\n",
       " 'nil': 956,\n",
       " 'go': 957,\n",
       " 'v3': 958,\n",
       " 'enter': 959,\n",
       " 'osx': 960,\n",
       " 'proper': 961,\n",
       " 'vb': 962,\n",
       " '500': 963,\n",
       " 'moving': 964,\n",
       " 'digits': 965,\n",
       " 'nhibernate': 966,\n",
       " 'casting': 967,\n",
       " 'ignore': 968,\n",
       " 'stl': 969,\n",
       " 'faster': 970,\n",
       " 'activerecord': 971,\n",
       " 'permission': 972,\n",
       " 'settings': 973,\n",
       " 'pagination': 974,\n",
       " 'mysqli': 975,\n",
       " 'border': 976,\n",
       " 'lock': 977,\n",
       " 'including': 978,\n",
       " 'loops': 979,\n",
       " 'serial': 980,\n",
       " 'declared': 981,\n",
       " 'incorrect': 982,\n",
       " 'caching': 983,\n",
       " 'activity': 984,\n",
       " 'username': 985,\n",
       " 'real': 986,\n",
       " 's3': 987,\n",
       " 'effect': 988,\n",
       " 'sent': 989,\n",
       " 'comparison': 990,\n",
       " 'complex': 991,\n",
       " 'complete': 992,\n",
       " 'safari': 993,\n",
       " 'invoke': 994,\n",
       " 'across': 995,\n",
       " 'uitableviewcell': 996,\n",
       " 'txt': 997,\n",
       " 'void': 998,\n",
       " 'audio': 999,\n",
       " ...}"
      ]
     },
     "execution_count": 54,
     "metadata": {
      "tags": []
     },
     "output_type": "execute_result"
    }
   ],
   "source": [
    "WORDS_TO_INDEX"
   ]
  },
  {
   "cell_type": "code",
   "execution_count": null,
   "metadata": {
    "colab": {},
    "colab_type": "code",
    "id": "R5hqjb-3WVTd"
   },
   "outputs": [],
   "source": [
    "def test_my_bag_of_words():\n",
    "    words_to_index = {'hi': 0, 'you': 1, 'me': 2, 'are': 3}\n",
    "    examples = ['hi how are you']\n",
    "    answers = [[1, 1, 0, 1]]\n",
    "    for ex, ans in zip(examples, answers):\n",
    "        if (my_bag_of_words(ex, words_to_index, 4) != ans).any():\n",
    "            return \"Wrong answer for the case: '%s'\" % ex\n",
    "    return 'Basic tests are passed.'"
   ]
  },
  {
   "cell_type": "code",
   "execution_count": null,
   "metadata": {
    "colab": {
     "base_uri": "https://localhost:8080/",
     "height": 34
    },
    "colab_type": "code",
    "id": "OycNXO0sWVTf",
    "outputId": "803a7a3b-18f8-4909-da69-89946861e541"
   },
   "outputs": [
    {
     "name": "stdout",
     "output_type": "stream",
     "text": [
      "Basic tests are passed.\n"
     ]
    }
   ],
   "source": [
    "print(test_my_bag_of_words())"
   ]
  },
  {
   "cell_type": "code",
   "execution_count": null,
   "metadata": {
    "colab": {},
    "colab_type": "code",
    "id": "0c7zYmzJaUcZ"
   },
   "outputs": [],
   "source": [
    "x = {k: WORDS_TO_INDEX[k] for k in list(WORDS_TO_INDEX)[:10]}"
   ]
  },
  {
   "cell_type": "markdown",
   "metadata": {
    "colab_type": "text",
    "id": "UdyIXzySWVTh"
   },
   "source": [
    "Now apply the implemented function to all samples (this might take up to a minute):"
   ]
  },
  {
   "cell_type": "code",
   "execution_count": null,
   "metadata": {
    "colab": {},
    "colab_type": "code",
    "id": "FOVyIvzyWVTh"
   },
   "outputs": [],
   "source": [
    "from scipy import sparse as sp_sparse"
   ]
  },
  {
   "cell_type": "code",
   "execution_count": null,
   "metadata": {
    "colab": {
     "base_uri": "https://localhost:8080/",
     "height": 68
    },
    "colab_type": "code",
    "id": "NfWYBCwZWVTj",
    "outputId": "e1bb9384-6aae-4ee9-9e76-ee280f1d7c38"
   },
   "outputs": [
    {
     "name": "stdout",
     "output_type": "stream",
     "text": [
      "X_train shape  (100000, 5000)\n",
      "X_val shape  (30000, 5000)\n",
      "X_test shape  (20000, 5000)\n"
     ]
    }
   ],
   "source": [
    "X_train_mybag = sp_sparse.vstack([sp_sparse.csr_matrix(my_bag_of_words(text, WORDS_TO_INDEX, DICT_SIZE)) for text in X_train])\n",
    "X_val_mybag = sp_sparse.vstack([sp_sparse.csr_matrix(my_bag_of_words(text, WORDS_TO_INDEX, DICT_SIZE)) for text in X_val])\n",
    "X_test_mybag = sp_sparse.vstack([sp_sparse.csr_matrix(my_bag_of_words(text, WORDS_TO_INDEX, DICT_SIZE)) for text in X_test])\n",
    "print('X_train shape ', X_train_mybag.shape)\n",
    "print('X_val shape ', X_val_mybag.shape)\n",
    "print('X_test shape ', X_test_mybag.shape)"
   ]
  },
  {
   "cell_type": "markdown",
   "metadata": {
    "colab_type": "text",
    "id": "nFiAVChyWVVQ"
   },
   "source": [
    "As you might notice, we transform the data to sparse representation, to store the useful information efficiently. There are many [types](https://docs.scipy.org/doc/scipy/reference/sparse.html) of such representations, however sklearn algorithms can work only with [csr](https://docs.scipy.org/doc/scipy/reference/generated/scipy.sparse.csr_matrix.html#scipy.sparse.csr_matrix) matrix, so we will use this one."
   ]
  },
  {
   "cell_type": "markdown",
   "metadata": {
    "colab_type": "text",
    "id": "ZOvKwkKSWVVQ"
   },
   "source": [
    "**Task 3 (BagOfWords).** For the 11th row in *X_train_mybag* find how many non-zero elements it has. In this task the answer (variable *non_zero_elements_count*) should be a number, e.g. 20."
   ]
  },
  {
   "cell_type": "code",
   "execution_count": null,
   "metadata": {
    "colab": {
     "base_uri": "https://localhost:8080/",
     "height": 51
    },
    "colab_type": "code",
    "id": "EwAiebGJWVVR",
    "outputId": "84c1ccbd-5eba-4996-8469-30d839819d9b"
   },
   "outputs": [
    {
     "name": "stdout",
     "output_type": "stream",
     "text": [
      "Current answer for task BagOfWords is:\n",
      " 7...\n"
     ]
    }
   ],
   "source": [
    "row = X_train_mybag[10].toarray()[0]\n",
    "non_zero_elements_count = np.count_nonzero(row)\n",
    "\n",
    "grader.submit_tag('BagOfWords', str(non_zero_elements_count))"
   ]
  },
  {
   "cell_type": "code",
   "execution_count": null,
   "metadata": {
    "colab": {
     "base_uri": "https://localhost:8080/",
     "height": 34
    },
    "colab_type": "code",
    "id": "8HrTSAzQsz9T",
    "outputId": "80877d26-d53b-48a7-bea7-e8780cec8a48"
   },
   "outputs": [
    {
     "data": {
      "text/plain": [
       "4"
      ]
     },
     "execution_count": 61,
     "metadata": {
      "tags": []
     },
     "output_type": "execute_result"
    }
   ],
   "source": [
    "row = X_train_mybag[1000].toarray()[0]\n",
    "np.count_nonzero(row)\n",
    "\n"
   ]
  },
  {
   "cell_type": "markdown",
   "metadata": {
    "colab_type": "text",
    "id": "8kujuv7mWVVS"
   },
   "source": [
    "#### TF-IDF\n",
    "\n",
    "The second approach extends the bag-of-words framework by taking into account total frequencies of words in the corpora. It helps to penalize too frequent words and provide better features space. \n",
    "\n",
    "Implement function *tfidf_features* using class [TfidfVectorizer](http://scikit-learn.org/stable/modules/generated/sklearn.feature_extraction.text.TfidfVectorizer.html) from *scikit-learn*. Use *train* corpus to train a vectorizer. Don't forget to take a look into the arguments that you can pass to it. We suggest that you filter out too rare words (occur less than in 5 titles) and too frequent words (occur more than in 90% of the titles). Also, use bigrams along with unigrams in your vocabulary. "
   ]
  },
  {
   "cell_type": "code",
   "execution_count": null,
   "metadata": {
    "colab": {},
    "colab_type": "code",
    "id": "0brfvt4BWVVU"
   },
   "outputs": [],
   "source": [
    "from sklearn.feature_extraction.text import TfidfVectorizer\n",
    "\n",
    "vectorizer = TfidfVectorizer(encoding='utf-8', ngram_range=(1, 2), min_df=5, max_df=0.9)\n",
    "#X = vectorizer.fit_transform(corpus)\n"
   ]
  },
  {
   "cell_type": "code",
   "execution_count": null,
   "metadata": {
    "colab": {},
    "colab_type": "code",
    "id": "0rHSREv8WVVV"
   },
   "outputs": [],
   "source": [
    "def tfidf_features(X_train, X_val, X_test):\n",
    "    \"\"\"\n",
    "        X_train, X_val, X_test — samples        \n",
    "        return TF-IDF vectorized representation of each sample and vocabulary\n",
    "    \"\"\"\n",
    "    # Create TF-IDF vectorizer with a proper parameters choice\n",
    "    # Fit the vectorizer on the train set\n",
    "    # Transform the train, test, and val sets and return the result\n",
    "    \n",
    "    vectorizer = TfidfVectorizer(encoding='utf-8', ngram_range=(1, 2), min_df=5, max_df=0.9)\n",
    "    tfidf_vectorizer = vectorizer.fit(X_train)\n",
    "    \n",
    "    \n",
    "    \n",
    "    X_train= tfidf_vectorizer.transform(X_train)\n",
    "    X_val = tfidf_vectorizer.transform(X_val)\n",
    "    X_test = tfidf_vectorizer.transform(X_test)\n",
    "    \n",
    "\n",
    "    \n",
    "    return X_train, X_val, X_test, tfidf_vectorizer.vocabulary_"
   ]
  },
  {
   "cell_type": "markdown",
   "metadata": {
    "colab_type": "text",
    "id": "EJ6TD5NbWVVX"
   },
   "source": [
    "Once you have done text preprocessing, always have a look at the results. Be very careful at this step, because the performance of future models will drastically depend on it. \n",
    "\n",
    "In this case, check whether you have c++ or c# in your vocabulary, as they are obviously important tokens in our tags prediction task:"
   ]
  },
  {
   "cell_type": "code",
   "execution_count": null,
   "metadata": {
    "colab": {},
    "colab_type": "code",
    "id": "blIpYsoeWVVY"
   },
   "outputs": [],
   "source": [
    "X_train_tfidf, X_val_tfidf, X_test_tfidf, tfidf_vocab = tfidf_features(X_train, X_val, X_test)\n",
    "tfidf_reversed_vocab = {i:word for word,i in tfidf_vocab.items()}"
   ]
  },
  {
   "cell_type": "code",
   "execution_count": null,
   "metadata": {
    "colab": {
     "base_uri": "https://localhost:8080/",
     "height": 357
    },
    "colab_type": "code",
    "id": "IlffoA-GWVVa",
    "outputId": "55a06b16-c874-4f79-f55a-5af472c32f13"
   },
   "outputs": [
    {
     "data": {
      "text/plain": [
       "[<1x17778 sparse matrix of type '<class 'numpy.float64'>'\n",
       " \twith 2 stored elements in Compressed Sparse Row format>,\n",
       " <1x17778 sparse matrix of type '<class 'numpy.float64'>'\n",
       " \twith 11 stored elements in Compressed Sparse Row format>,\n",
       " <1x17778 sparse matrix of type '<class 'numpy.float64'>'\n",
       " \twith 8 stored elements in Compressed Sparse Row format>,\n",
       " <1x17778 sparse matrix of type '<class 'numpy.float64'>'\n",
       " \twith 11 stored elements in Compressed Sparse Row format>,\n",
       " <1x17778 sparse matrix of type '<class 'numpy.float64'>'\n",
       " \twith 4 stored elements in Compressed Sparse Row format>,\n",
       " <1x17778 sparse matrix of type '<class 'numpy.float64'>'\n",
       " \twith 11 stored elements in Compressed Sparse Row format>,\n",
       " <1x17778 sparse matrix of type '<class 'numpy.float64'>'\n",
       " \twith 8 stored elements in Compressed Sparse Row format>,\n",
       " <1x17778 sparse matrix of type '<class 'numpy.float64'>'\n",
       " \twith 7 stored elements in Compressed Sparse Row format>,\n",
       " <1x17778 sparse matrix of type '<class 'numpy.float64'>'\n",
       " \twith 3 stored elements in Compressed Sparse Row format>,\n",
       " <1x17778 sparse matrix of type '<class 'numpy.float64'>'\n",
       " \twith 12 stored elements in Compressed Sparse Row format>]"
      ]
     },
     "execution_count": 66,
     "metadata": {
      "tags": []
     },
     "output_type": "execute_result"
    }
   ],
   "source": [
    "from itertools import islice\n",
    "\n",
    "def take(n, iterable):\n",
    "    \"Return first n items of the iterable as a list\"\n",
    "    return list(islice(iterable, n))\n",
    "  \n",
    "take(10,X_train_tfidf)"
   ]
  },
  {
   "cell_type": "markdown",
   "metadata": {
    "colab_type": "text",
    "id": "k61FK9Q1WVVc"
   },
   "source": [
    "If you can't find it, we need to understand how did it happen that we lost them? It happened during the built-in tokenization of TfidfVectorizer. Luckily, we can influence on this process. Get back to the function above and use '(\\S+)' regexp as a *token_pattern* in the constructor of the vectorizer.  "
   ]
  },
  {
   "cell_type": "markdown",
   "metadata": {
    "colab_type": "text",
    "id": "l_s6DcbhWVVc"
   },
   "source": [
    "Now, use this transormation for the data and check again."
   ]
  },
  {
   "cell_type": "code",
   "execution_count": null,
   "metadata": {
    "colab": {},
    "colab_type": "code",
    "id": "Zy0O9xRzWVVd"
   },
   "outputs": [],
   "source": [
    "######### YOUR CODE HERE #############"
   ]
  },
  {
   "cell_type": "markdown",
   "metadata": {
    "colab_type": "text",
    "id": "BmFJaIwQWVVg"
   },
   "source": [
    "### MultiLabel classifier\n",
    "\n",
    "As we have noticed before, in this task each example can have multiple tags. To deal with such kind of prediction, we need to transform labels in a binary form and the prediction will be a mask of 0s and 1s. For this purpose it is convenient to use [MultiLabelBinarizer](http://scikit-learn.org/stable/modules/generated/sklearn.preprocessing.MultiLabelBinarizer.html) from *sklearn*."
   ]
  },
  {
   "cell_type": "code",
   "execution_count": null,
   "metadata": {
    "colab": {},
    "colab_type": "code",
    "id": "Kk56dkLEWVVg"
   },
   "outputs": [],
   "source": [
    "from sklearn.preprocessing import MultiLabelBinarizer"
   ]
  },
  {
   "cell_type": "code",
   "execution_count": null,
   "metadata": {
    "colab": {},
    "colab_type": "code",
    "id": "ItGzoJMWWVVi"
   },
   "outputs": [],
   "source": [
    "mlb = MultiLabelBinarizer(classes=sorted(tags_counts.keys()))\n",
    "y_train = mlb.fit_transform(y_train)\n",
    "y_val = mlb.fit_transform(y_val)"
   ]
  },
  {
   "cell_type": "markdown",
   "metadata": {
    "colab_type": "text",
    "id": "uo76rnRjWVVl"
   },
   "source": [
    "Implement the function *train_classifier* for training a classifier. In this task we suggest to use One-vs-Rest approach, which is implemented in [OneVsRestClassifier](http://scikit-learn.org/stable/modules/generated/sklearn.multiclass.OneVsRestClassifier.html) class. In this approach *k* classifiers (= number of tags) are trained. As a basic classifier, use [LogisticRegression](http://scikit-learn.org/stable/modules/generated/sklearn.linear_model.LogisticRegression.html). It is one of the simplest methods, but often it performs good enough in text classification tasks. It might take some time, because a number of classifiers to train is large."
   ]
  },
  {
   "cell_type": "code",
   "execution_count": null,
   "metadata": {
    "colab": {},
    "colab_type": "code",
    "id": "67OO334qWVVm"
   },
   "outputs": [],
   "source": [
    "from sklearn.multiclass import OneVsRestClassifier\n",
    "from sklearn.linear_model import LogisticRegression, RidgeClassifier"
   ]
  },
  {
   "cell_type": "code",
   "execution_count": null,
   "metadata": {
    "colab": {},
    "colab_type": "code",
    "id": "Tw8hNiyyWVVo"
   },
   "outputs": [],
   "source": [
    "def train_classifier(X_train, y_train):\n",
    "    \"\"\"\n",
    "      X_train, y_train — training data\n",
    "      \n",
    "      return: trained classifier\n",
    "    \"\"\"\n",
    "    \n",
    "    # Create and fit LogisticRegression wraped into OneVsRestClassifier.\n",
    "\n",
    "    ######################################\n",
    "    ######### YOUR CODE HERE #############\n",
    "    ######################################  \n",
    "\n",
    "    \n",
    "    clf = OneVsRestClassifier(LogisticRegression(C=1,solver='liblinear',penalty='l1'), n_jobs=1).fit(X_train, y_train)\n",
    "    \n",
    "    \n",
    "    return clf\n",
    "    \n",
    "    \n",
    " "
   ]
  },
  {
   "cell_type": "code",
   "execution_count": 111,
   "metadata": {
    "colab": {
     "base_uri": "https://localhost:8080/",
     "height": 2275
    },
    "colab_type": "code",
    "id": "v6Sy4_BzxUL6",
    "outputId": "d1126257-19e4-4935-a353-a4ce130accc6"
   },
   "outputs": [
    {
     "name": "stdout",
     "output_type": "stream",
     "text": [
      "Fitting 3 folds for each of 1 candidates, totalling 3 fits\n",
      "[CV] estimator__C=1, estimator__penalty=l1 ...........................\n"
     ]
    },
    {
     "ename": "KeyboardInterrupt",
     "evalue": "ignored",
     "output_type": "error",
     "traceback": [
      "\u001b[0;31m---------------------------------------------------------------------------\u001b[0m",
      "\u001b[0;31mKeyboardInterrupt\u001b[0m                         Traceback (most recent call last)",
      "\u001b[0;32m<ipython-input-111-d575c39e29f8>\u001b[0m in \u001b[0;36m<module>\u001b[0;34m()\u001b[0m\n\u001b[1;32m      8\u001b[0m     \u001b[0mbest_C\u001b[0m \u001b[0;34m=\u001b[0m \u001b[0mcv\u001b[0m\u001b[0;34m.\u001b[0m\u001b[0mbest_estimator_\u001b[0m\u001b[0;34m.\u001b[0m\u001b[0mestimators_\u001b[0m\u001b[0;34m[\u001b[0m\u001b[0;36m0\u001b[0m\u001b[0;34m]\u001b[0m\u001b[0;34m.\u001b[0m\u001b[0mC\u001b[0m\u001b[0;34m\u001b[0m\u001b[0;34m\u001b[0m\u001b[0m\n\u001b[1;32m      9\u001b[0m     \u001b[0mprint\u001b[0m\u001b[0;34m(\u001b[0m\u001b[0mbest_C\u001b[0m\u001b[0;34m)\u001b[0m\u001b[0;34m\u001b[0m\u001b[0;34m\u001b[0m\u001b[0m\n\u001b[0;32m---> 10\u001b[0;31m \u001b[0mtest_ovr_gridsearch\u001b[0m\u001b[0;34m(\u001b[0m\u001b[0;34m)\u001b[0m\u001b[0;34m\u001b[0m\u001b[0;34m\u001b[0m\u001b[0m\n\u001b[0m",
      "\u001b[0;32m<ipython-input-111-d575c39e29f8>\u001b[0m in \u001b[0;36mtest_ovr_gridsearch\u001b[0;34m()\u001b[0m\n\u001b[1;32m      5\u001b[0m     \u001b[0mpenalty\u001b[0m \u001b[0;34m=\u001b[0m \u001b[0;34m[\u001b[0m\u001b[0;34m'l1'\u001b[0m\u001b[0;34m]\u001b[0m\u001b[0;34m\u001b[0m\u001b[0;34m\u001b[0m\u001b[0m\n\u001b[1;32m      6\u001b[0m     \u001b[0mcv\u001b[0m \u001b[0;34m=\u001b[0m \u001b[0mGridSearchCV\u001b[0m\u001b[0;34m(\u001b[0m\u001b[0movr\u001b[0m\u001b[0;34m,\u001b[0m \u001b[0;34m{\u001b[0m\u001b[0;34m'estimator__C'\u001b[0m\u001b[0;34m:\u001b[0m \u001b[0mCs\u001b[0m\u001b[0;34m,\u001b[0m \u001b[0;34m'estimator__penalty'\u001b[0m\u001b[0;34m:\u001b[0m\u001b[0mpenalty\u001b[0m\u001b[0;34m}\u001b[0m\u001b[0;34m,\u001b[0m \u001b[0mverbose\u001b[0m\u001b[0;34m=\u001b[0m\u001b[0;36m10\u001b[0m\u001b[0;34m)\u001b[0m\u001b[0;34m\u001b[0m\u001b[0;34m\u001b[0m\u001b[0m\n\u001b[0;32m----> 7\u001b[0;31m     \u001b[0mcv\u001b[0m\u001b[0;34m.\u001b[0m\u001b[0mfit\u001b[0m\u001b[0;34m(\u001b[0m\u001b[0mX_val_tfidf\u001b[0m\u001b[0;34m,\u001b[0m \u001b[0my_val\u001b[0m\u001b[0;34m)\u001b[0m\u001b[0;34m\u001b[0m\u001b[0;34m\u001b[0m\u001b[0m\n\u001b[0m\u001b[1;32m      8\u001b[0m     \u001b[0mbest_C\u001b[0m \u001b[0;34m=\u001b[0m \u001b[0mcv\u001b[0m\u001b[0;34m.\u001b[0m\u001b[0mbest_estimator_\u001b[0m\u001b[0;34m.\u001b[0m\u001b[0mestimators_\u001b[0m\u001b[0;34m[\u001b[0m\u001b[0;36m0\u001b[0m\u001b[0;34m]\u001b[0m\u001b[0;34m.\u001b[0m\u001b[0mC\u001b[0m\u001b[0;34m\u001b[0m\u001b[0;34m\u001b[0m\u001b[0m\n\u001b[1;32m      9\u001b[0m     \u001b[0mprint\u001b[0m\u001b[0;34m(\u001b[0m\u001b[0mbest_C\u001b[0m\u001b[0;34m)\u001b[0m\u001b[0;34m\u001b[0m\u001b[0;34m\u001b[0m\u001b[0m\n",
      "\u001b[0;32m/usr/local/lib/python3.6/dist-packages/sklearn/model_selection/_search.py\u001b[0m in \u001b[0;36mfit\u001b[0;34m(self, X, y, groups, **fit_params)\u001b[0m\n\u001b[1;32m    638\u001b[0m                                   error_score=self.error_score)\n\u001b[1;32m    639\u001b[0m           for parameters, (train, test) in product(candidate_params,\n\u001b[0;32m--> 640\u001b[0;31m                                                    cv.split(X, y, groups)))\n\u001b[0m\u001b[1;32m    641\u001b[0m \u001b[0;34m\u001b[0m\u001b[0m\n\u001b[1;32m    642\u001b[0m         \u001b[0;31m# if one choose to see train score, \"out\" will contain train score info\u001b[0m\u001b[0;34m\u001b[0m\u001b[0;34m\u001b[0m\u001b[0;34m\u001b[0m\u001b[0m\n",
      "\u001b[0;32m/usr/local/lib/python3.6/dist-packages/sklearn/externals/joblib/parallel.py\u001b[0m in \u001b[0;36m__call__\u001b[0;34m(self, iterable)\u001b[0m\n\u001b[1;32m    777\u001b[0m             \u001b[0;31m# was dispatched. In particular this covers the edge\u001b[0m\u001b[0;34m\u001b[0m\u001b[0;34m\u001b[0m\u001b[0;34m\u001b[0m\u001b[0m\n\u001b[1;32m    778\u001b[0m             \u001b[0;31m# case of Parallel used with an exhausted iterator.\u001b[0m\u001b[0;34m\u001b[0m\u001b[0;34m\u001b[0m\u001b[0;34m\u001b[0m\u001b[0m\n\u001b[0;32m--> 779\u001b[0;31m             \u001b[0;32mwhile\u001b[0m \u001b[0mself\u001b[0m\u001b[0;34m.\u001b[0m\u001b[0mdispatch_one_batch\u001b[0m\u001b[0;34m(\u001b[0m\u001b[0miterator\u001b[0m\u001b[0;34m)\u001b[0m\u001b[0;34m:\u001b[0m\u001b[0;34m\u001b[0m\u001b[0;34m\u001b[0m\u001b[0m\n\u001b[0m\u001b[1;32m    780\u001b[0m                 \u001b[0mself\u001b[0m\u001b[0;34m.\u001b[0m\u001b[0m_iterating\u001b[0m \u001b[0;34m=\u001b[0m \u001b[0;32mTrue\u001b[0m\u001b[0;34m\u001b[0m\u001b[0;34m\u001b[0m\u001b[0m\n\u001b[1;32m    781\u001b[0m             \u001b[0;32melse\u001b[0m\u001b[0;34m:\u001b[0m\u001b[0;34m\u001b[0m\u001b[0;34m\u001b[0m\u001b[0m\n",
      "\u001b[0;32m/usr/local/lib/python3.6/dist-packages/sklearn/externals/joblib/parallel.py\u001b[0m in \u001b[0;36mdispatch_one_batch\u001b[0;34m(self, iterator)\u001b[0m\n\u001b[1;32m    623\u001b[0m                 \u001b[0;32mreturn\u001b[0m \u001b[0;32mFalse\u001b[0m\u001b[0;34m\u001b[0m\u001b[0;34m\u001b[0m\u001b[0m\n\u001b[1;32m    624\u001b[0m             \u001b[0;32melse\u001b[0m\u001b[0;34m:\u001b[0m\u001b[0;34m\u001b[0m\u001b[0;34m\u001b[0m\u001b[0m\n\u001b[0;32m--> 625\u001b[0;31m                 \u001b[0mself\u001b[0m\u001b[0;34m.\u001b[0m\u001b[0m_dispatch\u001b[0m\u001b[0;34m(\u001b[0m\u001b[0mtasks\u001b[0m\u001b[0;34m)\u001b[0m\u001b[0;34m\u001b[0m\u001b[0;34m\u001b[0m\u001b[0m\n\u001b[0m\u001b[1;32m    626\u001b[0m                 \u001b[0;32mreturn\u001b[0m \u001b[0;32mTrue\u001b[0m\u001b[0;34m\u001b[0m\u001b[0;34m\u001b[0m\u001b[0m\n\u001b[1;32m    627\u001b[0m \u001b[0;34m\u001b[0m\u001b[0m\n",
      "\u001b[0;32m/usr/local/lib/python3.6/dist-packages/sklearn/externals/joblib/parallel.py\u001b[0m in \u001b[0;36m_dispatch\u001b[0;34m(self, batch)\u001b[0m\n\u001b[1;32m    586\u001b[0m         \u001b[0mdispatch_timestamp\u001b[0m \u001b[0;34m=\u001b[0m \u001b[0mtime\u001b[0m\u001b[0;34m.\u001b[0m\u001b[0mtime\u001b[0m\u001b[0;34m(\u001b[0m\u001b[0;34m)\u001b[0m\u001b[0;34m\u001b[0m\u001b[0;34m\u001b[0m\u001b[0m\n\u001b[1;32m    587\u001b[0m         \u001b[0mcb\u001b[0m \u001b[0;34m=\u001b[0m \u001b[0mBatchCompletionCallBack\u001b[0m\u001b[0;34m(\u001b[0m\u001b[0mdispatch_timestamp\u001b[0m\u001b[0;34m,\u001b[0m \u001b[0mlen\u001b[0m\u001b[0;34m(\u001b[0m\u001b[0mbatch\u001b[0m\u001b[0;34m)\u001b[0m\u001b[0;34m,\u001b[0m \u001b[0mself\u001b[0m\u001b[0;34m)\u001b[0m\u001b[0;34m\u001b[0m\u001b[0;34m\u001b[0m\u001b[0m\n\u001b[0;32m--> 588\u001b[0;31m         \u001b[0mjob\u001b[0m \u001b[0;34m=\u001b[0m \u001b[0mself\u001b[0m\u001b[0;34m.\u001b[0m\u001b[0m_backend\u001b[0m\u001b[0;34m.\u001b[0m\u001b[0mapply_async\u001b[0m\u001b[0;34m(\u001b[0m\u001b[0mbatch\u001b[0m\u001b[0;34m,\u001b[0m \u001b[0mcallback\u001b[0m\u001b[0;34m=\u001b[0m\u001b[0mcb\u001b[0m\u001b[0;34m)\u001b[0m\u001b[0;34m\u001b[0m\u001b[0;34m\u001b[0m\u001b[0m\n\u001b[0m\u001b[1;32m    589\u001b[0m         \u001b[0mself\u001b[0m\u001b[0;34m.\u001b[0m\u001b[0m_jobs\u001b[0m\u001b[0;34m.\u001b[0m\u001b[0mappend\u001b[0m\u001b[0;34m(\u001b[0m\u001b[0mjob\u001b[0m\u001b[0;34m)\u001b[0m\u001b[0;34m\u001b[0m\u001b[0;34m\u001b[0m\u001b[0m\n\u001b[1;32m    590\u001b[0m \u001b[0;34m\u001b[0m\u001b[0m\n",
      "\u001b[0;32m/usr/local/lib/python3.6/dist-packages/sklearn/externals/joblib/_parallel_backends.py\u001b[0m in \u001b[0;36mapply_async\u001b[0;34m(self, func, callback)\u001b[0m\n\u001b[1;32m    109\u001b[0m     \u001b[0;32mdef\u001b[0m \u001b[0mapply_async\u001b[0m\u001b[0;34m(\u001b[0m\u001b[0mself\u001b[0m\u001b[0;34m,\u001b[0m \u001b[0mfunc\u001b[0m\u001b[0;34m,\u001b[0m \u001b[0mcallback\u001b[0m\u001b[0;34m=\u001b[0m\u001b[0;32mNone\u001b[0m\u001b[0;34m)\u001b[0m\u001b[0;34m:\u001b[0m\u001b[0;34m\u001b[0m\u001b[0;34m\u001b[0m\u001b[0m\n\u001b[1;32m    110\u001b[0m         \u001b[0;34m\"\"\"Schedule a func to be run\"\"\"\u001b[0m\u001b[0;34m\u001b[0m\u001b[0;34m\u001b[0m\u001b[0m\n\u001b[0;32m--> 111\u001b[0;31m         \u001b[0mresult\u001b[0m \u001b[0;34m=\u001b[0m \u001b[0mImmediateResult\u001b[0m\u001b[0;34m(\u001b[0m\u001b[0mfunc\u001b[0m\u001b[0;34m)\u001b[0m\u001b[0;34m\u001b[0m\u001b[0;34m\u001b[0m\u001b[0m\n\u001b[0m\u001b[1;32m    112\u001b[0m         \u001b[0;32mif\u001b[0m \u001b[0mcallback\u001b[0m\u001b[0;34m:\u001b[0m\u001b[0;34m\u001b[0m\u001b[0;34m\u001b[0m\u001b[0m\n\u001b[1;32m    113\u001b[0m             \u001b[0mcallback\u001b[0m\u001b[0;34m(\u001b[0m\u001b[0mresult\u001b[0m\u001b[0;34m)\u001b[0m\u001b[0;34m\u001b[0m\u001b[0;34m\u001b[0m\u001b[0m\n",
      "\u001b[0;32m/usr/local/lib/python3.6/dist-packages/sklearn/externals/joblib/_parallel_backends.py\u001b[0m in \u001b[0;36m__init__\u001b[0;34m(self, batch)\u001b[0m\n\u001b[1;32m    330\u001b[0m         \u001b[0;31m# Don't delay the application, to avoid keeping the input\u001b[0m\u001b[0;34m\u001b[0m\u001b[0;34m\u001b[0m\u001b[0;34m\u001b[0m\u001b[0m\n\u001b[1;32m    331\u001b[0m         \u001b[0;31m# arguments in memory\u001b[0m\u001b[0;34m\u001b[0m\u001b[0;34m\u001b[0m\u001b[0;34m\u001b[0m\u001b[0m\n\u001b[0;32m--> 332\u001b[0;31m         \u001b[0mself\u001b[0m\u001b[0;34m.\u001b[0m\u001b[0mresults\u001b[0m \u001b[0;34m=\u001b[0m \u001b[0mbatch\u001b[0m\u001b[0;34m(\u001b[0m\u001b[0;34m)\u001b[0m\u001b[0;34m\u001b[0m\u001b[0;34m\u001b[0m\u001b[0m\n\u001b[0m\u001b[1;32m    333\u001b[0m \u001b[0;34m\u001b[0m\u001b[0m\n\u001b[1;32m    334\u001b[0m     \u001b[0;32mdef\u001b[0m \u001b[0mget\u001b[0m\u001b[0;34m(\u001b[0m\u001b[0mself\u001b[0m\u001b[0;34m)\u001b[0m\u001b[0;34m:\u001b[0m\u001b[0;34m\u001b[0m\u001b[0;34m\u001b[0m\u001b[0m\n",
      "\u001b[0;32m/usr/local/lib/python3.6/dist-packages/sklearn/externals/joblib/parallel.py\u001b[0m in \u001b[0;36m__call__\u001b[0;34m(self)\u001b[0m\n\u001b[1;32m    129\u001b[0m \u001b[0;34m\u001b[0m\u001b[0m\n\u001b[1;32m    130\u001b[0m     \u001b[0;32mdef\u001b[0m \u001b[0m__call__\u001b[0m\u001b[0;34m(\u001b[0m\u001b[0mself\u001b[0m\u001b[0;34m)\u001b[0m\u001b[0;34m:\u001b[0m\u001b[0;34m\u001b[0m\u001b[0;34m\u001b[0m\u001b[0m\n\u001b[0;32m--> 131\u001b[0;31m         \u001b[0;32mreturn\u001b[0m \u001b[0;34m[\u001b[0m\u001b[0mfunc\u001b[0m\u001b[0;34m(\u001b[0m\u001b[0;34m*\u001b[0m\u001b[0margs\u001b[0m\u001b[0;34m,\u001b[0m \u001b[0;34m**\u001b[0m\u001b[0mkwargs\u001b[0m\u001b[0;34m)\u001b[0m \u001b[0;32mfor\u001b[0m \u001b[0mfunc\u001b[0m\u001b[0;34m,\u001b[0m \u001b[0margs\u001b[0m\u001b[0;34m,\u001b[0m \u001b[0mkwargs\u001b[0m \u001b[0;32min\u001b[0m \u001b[0mself\u001b[0m\u001b[0;34m.\u001b[0m\u001b[0mitems\u001b[0m\u001b[0;34m]\u001b[0m\u001b[0;34m\u001b[0m\u001b[0;34m\u001b[0m\u001b[0m\n\u001b[0m\u001b[1;32m    132\u001b[0m \u001b[0;34m\u001b[0m\u001b[0m\n\u001b[1;32m    133\u001b[0m     \u001b[0;32mdef\u001b[0m \u001b[0m__len__\u001b[0m\u001b[0;34m(\u001b[0m\u001b[0mself\u001b[0m\u001b[0;34m)\u001b[0m\u001b[0;34m:\u001b[0m\u001b[0;34m\u001b[0m\u001b[0;34m\u001b[0m\u001b[0m\n",
      "\u001b[0;32m/usr/local/lib/python3.6/dist-packages/sklearn/externals/joblib/parallel.py\u001b[0m in \u001b[0;36m<listcomp>\u001b[0;34m(.0)\u001b[0m\n\u001b[1;32m    129\u001b[0m \u001b[0;34m\u001b[0m\u001b[0m\n\u001b[1;32m    130\u001b[0m     \u001b[0;32mdef\u001b[0m \u001b[0m__call__\u001b[0m\u001b[0;34m(\u001b[0m\u001b[0mself\u001b[0m\u001b[0;34m)\u001b[0m\u001b[0;34m:\u001b[0m\u001b[0;34m\u001b[0m\u001b[0;34m\u001b[0m\u001b[0m\n\u001b[0;32m--> 131\u001b[0;31m         \u001b[0;32mreturn\u001b[0m \u001b[0;34m[\u001b[0m\u001b[0mfunc\u001b[0m\u001b[0;34m(\u001b[0m\u001b[0;34m*\u001b[0m\u001b[0margs\u001b[0m\u001b[0;34m,\u001b[0m \u001b[0;34m**\u001b[0m\u001b[0mkwargs\u001b[0m\u001b[0;34m)\u001b[0m \u001b[0;32mfor\u001b[0m \u001b[0mfunc\u001b[0m\u001b[0;34m,\u001b[0m \u001b[0margs\u001b[0m\u001b[0;34m,\u001b[0m \u001b[0mkwargs\u001b[0m \u001b[0;32min\u001b[0m \u001b[0mself\u001b[0m\u001b[0;34m.\u001b[0m\u001b[0mitems\u001b[0m\u001b[0;34m]\u001b[0m\u001b[0;34m\u001b[0m\u001b[0;34m\u001b[0m\u001b[0m\n\u001b[0m\u001b[1;32m    132\u001b[0m \u001b[0;34m\u001b[0m\u001b[0m\n\u001b[1;32m    133\u001b[0m     \u001b[0;32mdef\u001b[0m \u001b[0m__len__\u001b[0m\u001b[0;34m(\u001b[0m\u001b[0mself\u001b[0m\u001b[0;34m)\u001b[0m\u001b[0;34m:\u001b[0m\u001b[0;34m\u001b[0m\u001b[0;34m\u001b[0m\u001b[0m\n",
      "\u001b[0;32m/usr/local/lib/python3.6/dist-packages/sklearn/model_selection/_validation.py\u001b[0m in \u001b[0;36m_fit_and_score\u001b[0;34m(estimator, X, y, scorer, train, test, verbose, parameters, fit_params, return_train_score, return_parameters, return_n_test_samples, return_times, error_score)\u001b[0m\n\u001b[1;32m    456\u001b[0m             \u001b[0mestimator\u001b[0m\u001b[0;34m.\u001b[0m\u001b[0mfit\u001b[0m\u001b[0;34m(\u001b[0m\u001b[0mX_train\u001b[0m\u001b[0;34m,\u001b[0m \u001b[0;34m**\u001b[0m\u001b[0mfit_params\u001b[0m\u001b[0;34m)\u001b[0m\u001b[0;34m\u001b[0m\u001b[0;34m\u001b[0m\u001b[0m\n\u001b[1;32m    457\u001b[0m         \u001b[0;32melse\u001b[0m\u001b[0;34m:\u001b[0m\u001b[0;34m\u001b[0m\u001b[0;34m\u001b[0m\u001b[0m\n\u001b[0;32m--> 458\u001b[0;31m             \u001b[0mestimator\u001b[0m\u001b[0;34m.\u001b[0m\u001b[0mfit\u001b[0m\u001b[0;34m(\u001b[0m\u001b[0mX_train\u001b[0m\u001b[0;34m,\u001b[0m \u001b[0my_train\u001b[0m\u001b[0;34m,\u001b[0m \u001b[0;34m**\u001b[0m\u001b[0mfit_params\u001b[0m\u001b[0;34m)\u001b[0m\u001b[0;34m\u001b[0m\u001b[0;34m\u001b[0m\u001b[0m\n\u001b[0m\u001b[1;32m    459\u001b[0m \u001b[0;34m\u001b[0m\u001b[0m\n\u001b[1;32m    460\u001b[0m     \u001b[0;32mexcept\u001b[0m \u001b[0mException\u001b[0m \u001b[0;32mas\u001b[0m \u001b[0me\u001b[0m\u001b[0;34m:\u001b[0m\u001b[0;34m\u001b[0m\u001b[0;34m\u001b[0m\u001b[0m\n",
      "\u001b[0;32m/usr/local/lib/python3.6/dist-packages/sklearn/multiclass.py\u001b[0m in \u001b[0;36mfit\u001b[0;34m(self, X, y)\u001b[0m\n\u001b[1;32m    213\u001b[0m                 \u001b[0;34m\"not %s\"\u001b[0m \u001b[0;34m%\u001b[0m \u001b[0mself\u001b[0m\u001b[0;34m.\u001b[0m\u001b[0mlabel_binarizer_\u001b[0m\u001b[0;34m.\u001b[0m\u001b[0mclasses_\u001b[0m\u001b[0;34m[\u001b[0m\u001b[0mi\u001b[0m\u001b[0;34m]\u001b[0m\u001b[0;34m,\u001b[0m\u001b[0;34m\u001b[0m\u001b[0;34m\u001b[0m\u001b[0m\n\u001b[1;32m    214\u001b[0m                 self.label_binarizer_.classes_[i]])\n\u001b[0;32m--> 215\u001b[0;31m             for i, column in enumerate(columns))\n\u001b[0m\u001b[1;32m    216\u001b[0m \u001b[0;34m\u001b[0m\u001b[0m\n\u001b[1;32m    217\u001b[0m         \u001b[0;32mreturn\u001b[0m \u001b[0mself\u001b[0m\u001b[0;34m\u001b[0m\u001b[0;34m\u001b[0m\u001b[0m\n",
      "\u001b[0;32m/usr/local/lib/python3.6/dist-packages/sklearn/externals/joblib/parallel.py\u001b[0m in \u001b[0;36m__call__\u001b[0;34m(self, iterable)\u001b[0m\n\u001b[1;32m    787\u001b[0m                 \u001b[0;31m# consumption.\u001b[0m\u001b[0;34m\u001b[0m\u001b[0;34m\u001b[0m\u001b[0;34m\u001b[0m\u001b[0m\n\u001b[1;32m    788\u001b[0m                 \u001b[0mself\u001b[0m\u001b[0;34m.\u001b[0m\u001b[0m_iterating\u001b[0m \u001b[0;34m=\u001b[0m \u001b[0;32mFalse\u001b[0m\u001b[0;34m\u001b[0m\u001b[0;34m\u001b[0m\u001b[0m\n\u001b[0;32m--> 789\u001b[0;31m             \u001b[0mself\u001b[0m\u001b[0;34m.\u001b[0m\u001b[0mretrieve\u001b[0m\u001b[0;34m(\u001b[0m\u001b[0;34m)\u001b[0m\u001b[0;34m\u001b[0m\u001b[0;34m\u001b[0m\u001b[0m\n\u001b[0m\u001b[1;32m    790\u001b[0m             \u001b[0;31m# Make sure that we get a last message telling us we are done\u001b[0m\u001b[0;34m\u001b[0m\u001b[0;34m\u001b[0m\u001b[0;34m\u001b[0m\u001b[0m\n\u001b[1;32m    791\u001b[0m             \u001b[0melapsed_time\u001b[0m \u001b[0;34m=\u001b[0m \u001b[0mtime\u001b[0m\u001b[0;34m.\u001b[0m\u001b[0mtime\u001b[0m\u001b[0;34m(\u001b[0m\u001b[0;34m)\u001b[0m \u001b[0;34m-\u001b[0m \u001b[0mself\u001b[0m\u001b[0;34m.\u001b[0m\u001b[0m_start_time\u001b[0m\u001b[0;34m\u001b[0m\u001b[0;34m\u001b[0m\u001b[0m\n",
      "\u001b[0;32m/usr/local/lib/python3.6/dist-packages/sklearn/externals/joblib/parallel.py\u001b[0m in \u001b[0;36mretrieve\u001b[0;34m(self)\u001b[0m\n\u001b[1;32m    697\u001b[0m             \u001b[0;32mtry\u001b[0m\u001b[0;34m:\u001b[0m\u001b[0;34m\u001b[0m\u001b[0;34m\u001b[0m\u001b[0m\n\u001b[1;32m    698\u001b[0m                 \u001b[0;32mif\u001b[0m \u001b[0mgetattr\u001b[0m\u001b[0;34m(\u001b[0m\u001b[0mself\u001b[0m\u001b[0;34m.\u001b[0m\u001b[0m_backend\u001b[0m\u001b[0;34m,\u001b[0m \u001b[0;34m'supports_timeout'\u001b[0m\u001b[0;34m,\u001b[0m \u001b[0;32mFalse\u001b[0m\u001b[0;34m)\u001b[0m\u001b[0;34m:\u001b[0m\u001b[0;34m\u001b[0m\u001b[0;34m\u001b[0m\u001b[0m\n\u001b[0;32m--> 699\u001b[0;31m                     \u001b[0mself\u001b[0m\u001b[0;34m.\u001b[0m\u001b[0m_output\u001b[0m\u001b[0;34m.\u001b[0m\u001b[0mextend\u001b[0m\u001b[0;34m(\u001b[0m\u001b[0mjob\u001b[0m\u001b[0;34m.\u001b[0m\u001b[0mget\u001b[0m\u001b[0;34m(\u001b[0m\u001b[0mtimeout\u001b[0m\u001b[0;34m=\u001b[0m\u001b[0mself\u001b[0m\u001b[0;34m.\u001b[0m\u001b[0mtimeout\u001b[0m\u001b[0;34m)\u001b[0m\u001b[0;34m)\u001b[0m\u001b[0;34m\u001b[0m\u001b[0;34m\u001b[0m\u001b[0m\n\u001b[0m\u001b[1;32m    700\u001b[0m                 \u001b[0;32melse\u001b[0m\u001b[0;34m:\u001b[0m\u001b[0;34m\u001b[0m\u001b[0;34m\u001b[0m\u001b[0m\n\u001b[1;32m    701\u001b[0m                     \u001b[0mself\u001b[0m\u001b[0;34m.\u001b[0m\u001b[0m_output\u001b[0m\u001b[0;34m.\u001b[0m\u001b[0mextend\u001b[0m\u001b[0;34m(\u001b[0m\u001b[0mjob\u001b[0m\u001b[0;34m.\u001b[0m\u001b[0mget\u001b[0m\u001b[0;34m(\u001b[0m\u001b[0;34m)\u001b[0m\u001b[0;34m)\u001b[0m\u001b[0;34m\u001b[0m\u001b[0;34m\u001b[0m\u001b[0m\n",
      "\u001b[0;32m/usr/lib/python3.6/multiprocessing/pool.py\u001b[0m in \u001b[0;36mget\u001b[0;34m(self, timeout)\u001b[0m\n\u001b[1;32m    662\u001b[0m \u001b[0;34m\u001b[0m\u001b[0m\n\u001b[1;32m    663\u001b[0m     \u001b[0;32mdef\u001b[0m \u001b[0mget\u001b[0m\u001b[0;34m(\u001b[0m\u001b[0mself\u001b[0m\u001b[0;34m,\u001b[0m \u001b[0mtimeout\u001b[0m\u001b[0;34m=\u001b[0m\u001b[0;32mNone\u001b[0m\u001b[0;34m)\u001b[0m\u001b[0;34m:\u001b[0m\u001b[0;34m\u001b[0m\u001b[0;34m\u001b[0m\u001b[0m\n\u001b[0;32m--> 664\u001b[0;31m         \u001b[0mself\u001b[0m\u001b[0;34m.\u001b[0m\u001b[0mwait\u001b[0m\u001b[0;34m(\u001b[0m\u001b[0mtimeout\u001b[0m\u001b[0;34m)\u001b[0m\u001b[0;34m\u001b[0m\u001b[0;34m\u001b[0m\u001b[0m\n\u001b[0m\u001b[1;32m    665\u001b[0m         \u001b[0;32mif\u001b[0m \u001b[0;32mnot\u001b[0m \u001b[0mself\u001b[0m\u001b[0;34m.\u001b[0m\u001b[0mready\u001b[0m\u001b[0;34m(\u001b[0m\u001b[0;34m)\u001b[0m\u001b[0;34m:\u001b[0m\u001b[0;34m\u001b[0m\u001b[0;34m\u001b[0m\u001b[0m\n\u001b[1;32m    666\u001b[0m             \u001b[0;32mraise\u001b[0m \u001b[0mTimeoutError\u001b[0m\u001b[0;34m\u001b[0m\u001b[0;34m\u001b[0m\u001b[0m\n",
      "\u001b[0;32m/usr/lib/python3.6/multiprocessing/pool.py\u001b[0m in \u001b[0;36mwait\u001b[0;34m(self, timeout)\u001b[0m\n\u001b[1;32m    659\u001b[0m \u001b[0;34m\u001b[0m\u001b[0m\n\u001b[1;32m    660\u001b[0m     \u001b[0;32mdef\u001b[0m \u001b[0mwait\u001b[0m\u001b[0;34m(\u001b[0m\u001b[0mself\u001b[0m\u001b[0;34m,\u001b[0m \u001b[0mtimeout\u001b[0m\u001b[0;34m=\u001b[0m\u001b[0;32mNone\u001b[0m\u001b[0;34m)\u001b[0m\u001b[0;34m:\u001b[0m\u001b[0;34m\u001b[0m\u001b[0;34m\u001b[0m\u001b[0m\n\u001b[0;32m--> 661\u001b[0;31m         \u001b[0mself\u001b[0m\u001b[0;34m.\u001b[0m\u001b[0m_event\u001b[0m\u001b[0;34m.\u001b[0m\u001b[0mwait\u001b[0m\u001b[0;34m(\u001b[0m\u001b[0mtimeout\u001b[0m\u001b[0;34m)\u001b[0m\u001b[0;34m\u001b[0m\u001b[0;34m\u001b[0m\u001b[0m\n\u001b[0m\u001b[1;32m    662\u001b[0m \u001b[0;34m\u001b[0m\u001b[0m\n\u001b[1;32m    663\u001b[0m     \u001b[0;32mdef\u001b[0m \u001b[0mget\u001b[0m\u001b[0;34m(\u001b[0m\u001b[0mself\u001b[0m\u001b[0;34m,\u001b[0m \u001b[0mtimeout\u001b[0m\u001b[0;34m=\u001b[0m\u001b[0;32mNone\u001b[0m\u001b[0;34m)\u001b[0m\u001b[0;34m:\u001b[0m\u001b[0;34m\u001b[0m\u001b[0;34m\u001b[0m\u001b[0m\n",
      "\u001b[0;32m/usr/lib/python3.6/threading.py\u001b[0m in \u001b[0;36mwait\u001b[0;34m(self, timeout)\u001b[0m\n\u001b[1;32m    549\u001b[0m             \u001b[0msignaled\u001b[0m \u001b[0;34m=\u001b[0m \u001b[0mself\u001b[0m\u001b[0;34m.\u001b[0m\u001b[0m_flag\u001b[0m\u001b[0;34m\u001b[0m\u001b[0;34m\u001b[0m\u001b[0m\n\u001b[1;32m    550\u001b[0m             \u001b[0;32mif\u001b[0m \u001b[0;32mnot\u001b[0m \u001b[0msignaled\u001b[0m\u001b[0;34m:\u001b[0m\u001b[0;34m\u001b[0m\u001b[0;34m\u001b[0m\u001b[0m\n\u001b[0;32m--> 551\u001b[0;31m                 \u001b[0msignaled\u001b[0m \u001b[0;34m=\u001b[0m \u001b[0mself\u001b[0m\u001b[0;34m.\u001b[0m\u001b[0m_cond\u001b[0m\u001b[0;34m.\u001b[0m\u001b[0mwait\u001b[0m\u001b[0;34m(\u001b[0m\u001b[0mtimeout\u001b[0m\u001b[0;34m)\u001b[0m\u001b[0;34m\u001b[0m\u001b[0;34m\u001b[0m\u001b[0m\n\u001b[0m\u001b[1;32m    552\u001b[0m             \u001b[0;32mreturn\u001b[0m \u001b[0msignaled\u001b[0m\u001b[0;34m\u001b[0m\u001b[0;34m\u001b[0m\u001b[0m\n\u001b[1;32m    553\u001b[0m \u001b[0;34m\u001b[0m\u001b[0m\n",
      "\u001b[0;32m/usr/lib/python3.6/threading.py\u001b[0m in \u001b[0;36mwait\u001b[0;34m(self, timeout)\u001b[0m\n\u001b[1;32m    293\u001b[0m         \u001b[0;32mtry\u001b[0m\u001b[0;34m:\u001b[0m    \u001b[0;31m# restore state no matter what (e.g., KeyboardInterrupt)\u001b[0m\u001b[0;34m\u001b[0m\u001b[0;34m\u001b[0m\u001b[0m\n\u001b[1;32m    294\u001b[0m             \u001b[0;32mif\u001b[0m \u001b[0mtimeout\u001b[0m \u001b[0;32mis\u001b[0m \u001b[0;32mNone\u001b[0m\u001b[0;34m:\u001b[0m\u001b[0;34m\u001b[0m\u001b[0;34m\u001b[0m\u001b[0m\n\u001b[0;32m--> 295\u001b[0;31m                 \u001b[0mwaiter\u001b[0m\u001b[0;34m.\u001b[0m\u001b[0macquire\u001b[0m\u001b[0;34m(\u001b[0m\u001b[0;34m)\u001b[0m\u001b[0;34m\u001b[0m\u001b[0;34m\u001b[0m\u001b[0m\n\u001b[0m\u001b[1;32m    296\u001b[0m                 \u001b[0mgotit\u001b[0m \u001b[0;34m=\u001b[0m \u001b[0;32mTrue\u001b[0m\u001b[0;34m\u001b[0m\u001b[0;34m\u001b[0m\u001b[0m\n\u001b[1;32m    297\u001b[0m             \u001b[0;32melse\u001b[0m\u001b[0;34m:\u001b[0m\u001b[0;34m\u001b[0m\u001b[0;34m\u001b[0m\u001b[0m\n",
      "\u001b[0;31mKeyboardInterrupt\u001b[0m: "
     ]
    }
   ],
   "source": [
    "##Trying to improve accuracy with grid search and different parameters for C, penalty for logistic regression\n",
    "\n",
    "from sklearn.model_selection import GridSearchCV\n",
    "def test_ovr_gridsearch():\n",
    "    ovr = OneVsRestClassifier(LogisticRegression(), n_jobs=-1)\n",
    "    Cs = [1]\n",
    "    penalty = ['l1']\n",
    "    cv = GridSearchCV(ovr, {'estimator__C': Cs, 'estimator__penalty':penalty}, verbose=10)\n",
    "    cv.fit(X_val_tfidf, y_val)\n",
    "    best_C = cv.best_estimator_.estimators_[0].C\n",
    "    print(best_C)\n",
    "test_ovr_gridsearch()"
   ]
  },
  {
   "cell_type": "code",
   "execution_count": 96,
   "metadata": {
    "colab": {
     "base_uri": "https://localhost:8080/",
     "height": 2071
    },
    "colab_type": "code",
    "id": "rY9U4tR3n9Hl",
    "outputId": "2c111525-f05d-4d00-9479-dc1481aa6893"
   },
   "outputs": [
    {
     "name": "stdout",
     "output_type": "stream",
     "text": [
      "Fitting 3 folds for each of 12 candidates, totalling 36 fits\n",
      "[CV] estimator__C=0.1, estimator__max_iter=500, estimator__penalty=l2, estimator__solver=newton-cg \n"
     ]
    },
    {
     "ename": "ValueError",
     "evalue": "ignored",
     "output_type": "error",
     "traceback": [
      "\u001b[0;31m---------------------------------------------------------------------------\u001b[0m",
      "\u001b[0;31mValueError\u001b[0m                                Traceback (most recent call last)",
      "\u001b[0;32m<ipython-input-96-8c205806f374>\u001b[0m in \u001b[0;36m<module>\u001b[0;34m()\u001b[0m\n\u001b[1;32m     23\u001b[0m \u001b[0mmodel_tunning\u001b[0m \u001b[0;34m=\u001b[0m \u001b[0mGridSearchCV\u001b[0m\u001b[0;34m(\u001b[0m\u001b[0mclf\u001b[0m\u001b[0;34m,\u001b[0m \u001b[0mparameters\u001b[0m \u001b[0;34m,\u001b[0m\u001b[0mscoring\u001b[0m\u001b[0;34m=\u001b[0m\u001b[0;34m'f1'\u001b[0m\u001b[0;34m,\u001b[0m \u001b[0mverbose\u001b[0m \u001b[0;34m=\u001b[0m \u001b[0;36m10\u001b[0m\u001b[0;34m)\u001b[0m\u001b[0;34m\u001b[0m\u001b[0;34m\u001b[0m\u001b[0m\n\u001b[1;32m     24\u001b[0m \u001b[0;34m\u001b[0m\u001b[0m\n\u001b[0;32m---> 25\u001b[0;31m \u001b[0mmodel_tunning\u001b[0m\u001b[0;34m.\u001b[0m\u001b[0mfit\u001b[0m\u001b[0;34m(\u001b[0m\u001b[0mX_val_mybag\u001b[0m\u001b[0;34m,\u001b[0m \u001b[0my_val\u001b[0m\u001b[0;34m)\u001b[0m\u001b[0;34m\u001b[0m\u001b[0;34m\u001b[0m\u001b[0m\n\u001b[0m\u001b[1;32m     26\u001b[0m \u001b[0;34m\u001b[0m\u001b[0m\n\u001b[1;32m     27\u001b[0m \u001b[0mprint\u001b[0m\u001b[0;34m(\u001b[0m\u001b[0mmodel_tunning\u001b[0m\u001b[0;34m.\u001b[0m\u001b[0mbest_score_\u001b[0m\u001b[0;34m)\u001b[0m\u001b[0;34m\u001b[0m\u001b[0;34m\u001b[0m\u001b[0m\n",
      "\u001b[0;32m/usr/local/lib/python3.6/dist-packages/sklearn/model_selection/_search.py\u001b[0m in \u001b[0;36mfit\u001b[0;34m(self, X, y, groups, **fit_params)\u001b[0m\n\u001b[1;32m    638\u001b[0m                                   error_score=self.error_score)\n\u001b[1;32m    639\u001b[0m           for parameters, (train, test) in product(candidate_params,\n\u001b[0;32m--> 640\u001b[0;31m                                                    cv.split(X, y, groups)))\n\u001b[0m\u001b[1;32m    641\u001b[0m \u001b[0;34m\u001b[0m\u001b[0m\n\u001b[1;32m    642\u001b[0m         \u001b[0;31m# if one choose to see train score, \"out\" will contain train score info\u001b[0m\u001b[0;34m\u001b[0m\u001b[0;34m\u001b[0m\u001b[0;34m\u001b[0m\u001b[0m\n",
      "\u001b[0;32m/usr/local/lib/python3.6/dist-packages/sklearn/externals/joblib/parallel.py\u001b[0m in \u001b[0;36m__call__\u001b[0;34m(self, iterable)\u001b[0m\n\u001b[1;32m    777\u001b[0m             \u001b[0;31m# was dispatched. In particular this covers the edge\u001b[0m\u001b[0;34m\u001b[0m\u001b[0;34m\u001b[0m\u001b[0;34m\u001b[0m\u001b[0m\n\u001b[1;32m    778\u001b[0m             \u001b[0;31m# case of Parallel used with an exhausted iterator.\u001b[0m\u001b[0;34m\u001b[0m\u001b[0;34m\u001b[0m\u001b[0;34m\u001b[0m\u001b[0m\n\u001b[0;32m--> 779\u001b[0;31m             \u001b[0;32mwhile\u001b[0m \u001b[0mself\u001b[0m\u001b[0;34m.\u001b[0m\u001b[0mdispatch_one_batch\u001b[0m\u001b[0;34m(\u001b[0m\u001b[0miterator\u001b[0m\u001b[0;34m)\u001b[0m\u001b[0;34m:\u001b[0m\u001b[0;34m\u001b[0m\u001b[0;34m\u001b[0m\u001b[0m\n\u001b[0m\u001b[1;32m    780\u001b[0m                 \u001b[0mself\u001b[0m\u001b[0;34m.\u001b[0m\u001b[0m_iterating\u001b[0m \u001b[0;34m=\u001b[0m \u001b[0;32mTrue\u001b[0m\u001b[0;34m\u001b[0m\u001b[0;34m\u001b[0m\u001b[0m\n\u001b[1;32m    781\u001b[0m             \u001b[0;32melse\u001b[0m\u001b[0;34m:\u001b[0m\u001b[0;34m\u001b[0m\u001b[0;34m\u001b[0m\u001b[0m\n",
      "\u001b[0;32m/usr/local/lib/python3.6/dist-packages/sklearn/externals/joblib/parallel.py\u001b[0m in \u001b[0;36mdispatch_one_batch\u001b[0;34m(self, iterator)\u001b[0m\n\u001b[1;32m    623\u001b[0m                 \u001b[0;32mreturn\u001b[0m \u001b[0;32mFalse\u001b[0m\u001b[0;34m\u001b[0m\u001b[0;34m\u001b[0m\u001b[0m\n\u001b[1;32m    624\u001b[0m             \u001b[0;32melse\u001b[0m\u001b[0;34m:\u001b[0m\u001b[0;34m\u001b[0m\u001b[0;34m\u001b[0m\u001b[0m\n\u001b[0;32m--> 625\u001b[0;31m                 \u001b[0mself\u001b[0m\u001b[0;34m.\u001b[0m\u001b[0m_dispatch\u001b[0m\u001b[0;34m(\u001b[0m\u001b[0mtasks\u001b[0m\u001b[0;34m)\u001b[0m\u001b[0;34m\u001b[0m\u001b[0;34m\u001b[0m\u001b[0m\n\u001b[0m\u001b[1;32m    626\u001b[0m                 \u001b[0;32mreturn\u001b[0m \u001b[0;32mTrue\u001b[0m\u001b[0;34m\u001b[0m\u001b[0;34m\u001b[0m\u001b[0m\n\u001b[1;32m    627\u001b[0m \u001b[0;34m\u001b[0m\u001b[0m\n",
      "\u001b[0;32m/usr/local/lib/python3.6/dist-packages/sklearn/externals/joblib/parallel.py\u001b[0m in \u001b[0;36m_dispatch\u001b[0;34m(self, batch)\u001b[0m\n\u001b[1;32m    586\u001b[0m         \u001b[0mdispatch_timestamp\u001b[0m \u001b[0;34m=\u001b[0m \u001b[0mtime\u001b[0m\u001b[0;34m.\u001b[0m\u001b[0mtime\u001b[0m\u001b[0;34m(\u001b[0m\u001b[0;34m)\u001b[0m\u001b[0;34m\u001b[0m\u001b[0;34m\u001b[0m\u001b[0m\n\u001b[1;32m    587\u001b[0m         \u001b[0mcb\u001b[0m \u001b[0;34m=\u001b[0m \u001b[0mBatchCompletionCallBack\u001b[0m\u001b[0;34m(\u001b[0m\u001b[0mdispatch_timestamp\u001b[0m\u001b[0;34m,\u001b[0m \u001b[0mlen\u001b[0m\u001b[0;34m(\u001b[0m\u001b[0mbatch\u001b[0m\u001b[0;34m)\u001b[0m\u001b[0;34m,\u001b[0m \u001b[0mself\u001b[0m\u001b[0;34m)\u001b[0m\u001b[0;34m\u001b[0m\u001b[0;34m\u001b[0m\u001b[0m\n\u001b[0;32m--> 588\u001b[0;31m         \u001b[0mjob\u001b[0m \u001b[0;34m=\u001b[0m \u001b[0mself\u001b[0m\u001b[0;34m.\u001b[0m\u001b[0m_backend\u001b[0m\u001b[0;34m.\u001b[0m\u001b[0mapply_async\u001b[0m\u001b[0;34m(\u001b[0m\u001b[0mbatch\u001b[0m\u001b[0;34m,\u001b[0m \u001b[0mcallback\u001b[0m\u001b[0;34m=\u001b[0m\u001b[0mcb\u001b[0m\u001b[0;34m)\u001b[0m\u001b[0;34m\u001b[0m\u001b[0;34m\u001b[0m\u001b[0m\n\u001b[0m\u001b[1;32m    589\u001b[0m         \u001b[0mself\u001b[0m\u001b[0;34m.\u001b[0m\u001b[0m_jobs\u001b[0m\u001b[0;34m.\u001b[0m\u001b[0mappend\u001b[0m\u001b[0;34m(\u001b[0m\u001b[0mjob\u001b[0m\u001b[0;34m)\u001b[0m\u001b[0;34m\u001b[0m\u001b[0;34m\u001b[0m\u001b[0m\n\u001b[1;32m    590\u001b[0m \u001b[0;34m\u001b[0m\u001b[0m\n",
      "\u001b[0;32m/usr/local/lib/python3.6/dist-packages/sklearn/externals/joblib/_parallel_backends.py\u001b[0m in \u001b[0;36mapply_async\u001b[0;34m(self, func, callback)\u001b[0m\n\u001b[1;32m    109\u001b[0m     \u001b[0;32mdef\u001b[0m \u001b[0mapply_async\u001b[0m\u001b[0;34m(\u001b[0m\u001b[0mself\u001b[0m\u001b[0;34m,\u001b[0m \u001b[0mfunc\u001b[0m\u001b[0;34m,\u001b[0m \u001b[0mcallback\u001b[0m\u001b[0;34m=\u001b[0m\u001b[0;32mNone\u001b[0m\u001b[0;34m)\u001b[0m\u001b[0;34m:\u001b[0m\u001b[0;34m\u001b[0m\u001b[0;34m\u001b[0m\u001b[0m\n\u001b[1;32m    110\u001b[0m         \u001b[0;34m\"\"\"Schedule a func to be run\"\"\"\u001b[0m\u001b[0;34m\u001b[0m\u001b[0;34m\u001b[0m\u001b[0m\n\u001b[0;32m--> 111\u001b[0;31m         \u001b[0mresult\u001b[0m \u001b[0;34m=\u001b[0m \u001b[0mImmediateResult\u001b[0m\u001b[0;34m(\u001b[0m\u001b[0mfunc\u001b[0m\u001b[0;34m)\u001b[0m\u001b[0;34m\u001b[0m\u001b[0;34m\u001b[0m\u001b[0m\n\u001b[0m\u001b[1;32m    112\u001b[0m         \u001b[0;32mif\u001b[0m \u001b[0mcallback\u001b[0m\u001b[0;34m:\u001b[0m\u001b[0;34m\u001b[0m\u001b[0;34m\u001b[0m\u001b[0m\n\u001b[1;32m    113\u001b[0m             \u001b[0mcallback\u001b[0m\u001b[0;34m(\u001b[0m\u001b[0mresult\u001b[0m\u001b[0;34m)\u001b[0m\u001b[0;34m\u001b[0m\u001b[0;34m\u001b[0m\u001b[0m\n",
      "\u001b[0;32m/usr/local/lib/python3.6/dist-packages/sklearn/externals/joblib/_parallel_backends.py\u001b[0m in \u001b[0;36m__init__\u001b[0;34m(self, batch)\u001b[0m\n\u001b[1;32m    330\u001b[0m         \u001b[0;31m# Don't delay the application, to avoid keeping the input\u001b[0m\u001b[0;34m\u001b[0m\u001b[0;34m\u001b[0m\u001b[0;34m\u001b[0m\u001b[0m\n\u001b[1;32m    331\u001b[0m         \u001b[0;31m# arguments in memory\u001b[0m\u001b[0;34m\u001b[0m\u001b[0;34m\u001b[0m\u001b[0;34m\u001b[0m\u001b[0m\n\u001b[0;32m--> 332\u001b[0;31m         \u001b[0mself\u001b[0m\u001b[0;34m.\u001b[0m\u001b[0mresults\u001b[0m \u001b[0;34m=\u001b[0m \u001b[0mbatch\u001b[0m\u001b[0;34m(\u001b[0m\u001b[0;34m)\u001b[0m\u001b[0;34m\u001b[0m\u001b[0;34m\u001b[0m\u001b[0m\n\u001b[0m\u001b[1;32m    333\u001b[0m \u001b[0;34m\u001b[0m\u001b[0m\n\u001b[1;32m    334\u001b[0m     \u001b[0;32mdef\u001b[0m \u001b[0mget\u001b[0m\u001b[0;34m(\u001b[0m\u001b[0mself\u001b[0m\u001b[0;34m)\u001b[0m\u001b[0;34m:\u001b[0m\u001b[0;34m\u001b[0m\u001b[0;34m\u001b[0m\u001b[0m\n",
      "\u001b[0;32m/usr/local/lib/python3.6/dist-packages/sklearn/externals/joblib/parallel.py\u001b[0m in \u001b[0;36m__call__\u001b[0;34m(self)\u001b[0m\n\u001b[1;32m    129\u001b[0m \u001b[0;34m\u001b[0m\u001b[0m\n\u001b[1;32m    130\u001b[0m     \u001b[0;32mdef\u001b[0m \u001b[0m__call__\u001b[0m\u001b[0;34m(\u001b[0m\u001b[0mself\u001b[0m\u001b[0;34m)\u001b[0m\u001b[0;34m:\u001b[0m\u001b[0;34m\u001b[0m\u001b[0;34m\u001b[0m\u001b[0m\n\u001b[0;32m--> 131\u001b[0;31m         \u001b[0;32mreturn\u001b[0m \u001b[0;34m[\u001b[0m\u001b[0mfunc\u001b[0m\u001b[0;34m(\u001b[0m\u001b[0;34m*\u001b[0m\u001b[0margs\u001b[0m\u001b[0;34m,\u001b[0m \u001b[0;34m**\u001b[0m\u001b[0mkwargs\u001b[0m\u001b[0;34m)\u001b[0m \u001b[0;32mfor\u001b[0m \u001b[0mfunc\u001b[0m\u001b[0;34m,\u001b[0m \u001b[0margs\u001b[0m\u001b[0;34m,\u001b[0m \u001b[0mkwargs\u001b[0m \u001b[0;32min\u001b[0m \u001b[0mself\u001b[0m\u001b[0;34m.\u001b[0m\u001b[0mitems\u001b[0m\u001b[0;34m]\u001b[0m\u001b[0;34m\u001b[0m\u001b[0;34m\u001b[0m\u001b[0m\n\u001b[0m\u001b[1;32m    132\u001b[0m \u001b[0;34m\u001b[0m\u001b[0m\n\u001b[1;32m    133\u001b[0m     \u001b[0;32mdef\u001b[0m \u001b[0m__len__\u001b[0m\u001b[0;34m(\u001b[0m\u001b[0mself\u001b[0m\u001b[0;34m)\u001b[0m\u001b[0;34m:\u001b[0m\u001b[0;34m\u001b[0m\u001b[0;34m\u001b[0m\u001b[0m\n",
      "\u001b[0;32m/usr/local/lib/python3.6/dist-packages/sklearn/externals/joblib/parallel.py\u001b[0m in \u001b[0;36m<listcomp>\u001b[0;34m(.0)\u001b[0m\n\u001b[1;32m    129\u001b[0m \u001b[0;34m\u001b[0m\u001b[0m\n\u001b[1;32m    130\u001b[0m     \u001b[0;32mdef\u001b[0m \u001b[0m__call__\u001b[0m\u001b[0;34m(\u001b[0m\u001b[0mself\u001b[0m\u001b[0;34m)\u001b[0m\u001b[0;34m:\u001b[0m\u001b[0;34m\u001b[0m\u001b[0;34m\u001b[0m\u001b[0m\n\u001b[0;32m--> 131\u001b[0;31m         \u001b[0;32mreturn\u001b[0m \u001b[0;34m[\u001b[0m\u001b[0mfunc\u001b[0m\u001b[0;34m(\u001b[0m\u001b[0;34m*\u001b[0m\u001b[0margs\u001b[0m\u001b[0;34m,\u001b[0m \u001b[0;34m**\u001b[0m\u001b[0mkwargs\u001b[0m\u001b[0;34m)\u001b[0m \u001b[0;32mfor\u001b[0m \u001b[0mfunc\u001b[0m\u001b[0;34m,\u001b[0m \u001b[0margs\u001b[0m\u001b[0;34m,\u001b[0m \u001b[0mkwargs\u001b[0m \u001b[0;32min\u001b[0m \u001b[0mself\u001b[0m\u001b[0;34m.\u001b[0m\u001b[0mitems\u001b[0m\u001b[0;34m]\u001b[0m\u001b[0;34m\u001b[0m\u001b[0;34m\u001b[0m\u001b[0m\n\u001b[0m\u001b[1;32m    132\u001b[0m \u001b[0;34m\u001b[0m\u001b[0m\n\u001b[1;32m    133\u001b[0m     \u001b[0;32mdef\u001b[0m \u001b[0m__len__\u001b[0m\u001b[0;34m(\u001b[0m\u001b[0mself\u001b[0m\u001b[0;34m)\u001b[0m\u001b[0;34m:\u001b[0m\u001b[0;34m\u001b[0m\u001b[0;34m\u001b[0m\u001b[0m\n",
      "\u001b[0;32m/usr/local/lib/python3.6/dist-packages/sklearn/model_selection/_validation.py\u001b[0m in \u001b[0;36m_fit_and_score\u001b[0;34m(estimator, X, y, scorer, train, test, verbose, parameters, fit_params, return_train_score, return_parameters, return_n_test_samples, return_times, error_score)\u001b[0m\n\u001b[1;32m    486\u001b[0m         \u001b[0mfit_time\u001b[0m \u001b[0;34m=\u001b[0m \u001b[0mtime\u001b[0m\u001b[0;34m.\u001b[0m\u001b[0mtime\u001b[0m\u001b[0;34m(\u001b[0m\u001b[0;34m)\u001b[0m \u001b[0;34m-\u001b[0m \u001b[0mstart_time\u001b[0m\u001b[0;34m\u001b[0m\u001b[0;34m\u001b[0m\u001b[0m\n\u001b[1;32m    487\u001b[0m         \u001b[0;31m# _score will return dict if is_multimetric is True\u001b[0m\u001b[0;34m\u001b[0m\u001b[0;34m\u001b[0m\u001b[0;34m\u001b[0m\u001b[0m\n\u001b[0;32m--> 488\u001b[0;31m         \u001b[0mtest_scores\u001b[0m \u001b[0;34m=\u001b[0m \u001b[0m_score\u001b[0m\u001b[0;34m(\u001b[0m\u001b[0mestimator\u001b[0m\u001b[0;34m,\u001b[0m \u001b[0mX_test\u001b[0m\u001b[0;34m,\u001b[0m \u001b[0my_test\u001b[0m\u001b[0;34m,\u001b[0m \u001b[0mscorer\u001b[0m\u001b[0;34m,\u001b[0m \u001b[0mis_multimetric\u001b[0m\u001b[0;34m)\u001b[0m\u001b[0;34m\u001b[0m\u001b[0;34m\u001b[0m\u001b[0m\n\u001b[0m\u001b[1;32m    489\u001b[0m         \u001b[0mscore_time\u001b[0m \u001b[0;34m=\u001b[0m \u001b[0mtime\u001b[0m\u001b[0;34m.\u001b[0m\u001b[0mtime\u001b[0m\u001b[0;34m(\u001b[0m\u001b[0;34m)\u001b[0m \u001b[0;34m-\u001b[0m \u001b[0mstart_time\u001b[0m \u001b[0;34m-\u001b[0m \u001b[0mfit_time\u001b[0m\u001b[0;34m\u001b[0m\u001b[0;34m\u001b[0m\u001b[0m\n\u001b[1;32m    490\u001b[0m         \u001b[0;32mif\u001b[0m \u001b[0mreturn_train_score\u001b[0m\u001b[0;34m:\u001b[0m\u001b[0;34m\u001b[0m\u001b[0;34m\u001b[0m\u001b[0m\n",
      "\u001b[0;32m/usr/local/lib/python3.6/dist-packages/sklearn/model_selection/_validation.py\u001b[0m in \u001b[0;36m_score\u001b[0;34m(estimator, X_test, y_test, scorer, is_multimetric)\u001b[0m\n\u001b[1;32m    521\u001b[0m     \"\"\"\n\u001b[1;32m    522\u001b[0m     \u001b[0;32mif\u001b[0m \u001b[0mis_multimetric\u001b[0m\u001b[0;34m:\u001b[0m\u001b[0;34m\u001b[0m\u001b[0;34m\u001b[0m\u001b[0m\n\u001b[0;32m--> 523\u001b[0;31m         \u001b[0;32mreturn\u001b[0m \u001b[0m_multimetric_score\u001b[0m\u001b[0;34m(\u001b[0m\u001b[0mestimator\u001b[0m\u001b[0;34m,\u001b[0m \u001b[0mX_test\u001b[0m\u001b[0;34m,\u001b[0m \u001b[0my_test\u001b[0m\u001b[0;34m,\u001b[0m \u001b[0mscorer\u001b[0m\u001b[0;34m)\u001b[0m\u001b[0;34m\u001b[0m\u001b[0;34m\u001b[0m\u001b[0m\n\u001b[0m\u001b[1;32m    524\u001b[0m     \u001b[0;32melse\u001b[0m\u001b[0;34m:\u001b[0m\u001b[0;34m\u001b[0m\u001b[0;34m\u001b[0m\u001b[0m\n\u001b[1;32m    525\u001b[0m         \u001b[0;32mif\u001b[0m \u001b[0my_test\u001b[0m \u001b[0;32mis\u001b[0m \u001b[0;32mNone\u001b[0m\u001b[0;34m:\u001b[0m\u001b[0;34m\u001b[0m\u001b[0;34m\u001b[0m\u001b[0m\n",
      "\u001b[0;32m/usr/local/lib/python3.6/dist-packages/sklearn/model_selection/_validation.py\u001b[0m in \u001b[0;36m_multimetric_score\u001b[0;34m(estimator, X_test, y_test, scorers)\u001b[0m\n\u001b[1;32m    551\u001b[0m             \u001b[0mscore\u001b[0m \u001b[0;34m=\u001b[0m \u001b[0mscorer\u001b[0m\u001b[0;34m(\u001b[0m\u001b[0mestimator\u001b[0m\u001b[0;34m,\u001b[0m \u001b[0mX_test\u001b[0m\u001b[0;34m)\u001b[0m\u001b[0;34m\u001b[0m\u001b[0;34m\u001b[0m\u001b[0m\n\u001b[1;32m    552\u001b[0m         \u001b[0;32melse\u001b[0m\u001b[0;34m:\u001b[0m\u001b[0;34m\u001b[0m\u001b[0;34m\u001b[0m\u001b[0m\n\u001b[0;32m--> 553\u001b[0;31m             \u001b[0mscore\u001b[0m \u001b[0;34m=\u001b[0m \u001b[0mscorer\u001b[0m\u001b[0;34m(\u001b[0m\u001b[0mestimator\u001b[0m\u001b[0;34m,\u001b[0m \u001b[0mX_test\u001b[0m\u001b[0;34m,\u001b[0m \u001b[0my_test\u001b[0m\u001b[0;34m)\u001b[0m\u001b[0;34m\u001b[0m\u001b[0;34m\u001b[0m\u001b[0m\n\u001b[0m\u001b[1;32m    554\u001b[0m \u001b[0;34m\u001b[0m\u001b[0m\n\u001b[1;32m    555\u001b[0m         \u001b[0;32mif\u001b[0m \u001b[0mhasattr\u001b[0m\u001b[0;34m(\u001b[0m\u001b[0mscore\u001b[0m\u001b[0;34m,\u001b[0m \u001b[0;34m'item'\u001b[0m\u001b[0;34m)\u001b[0m\u001b[0;34m:\u001b[0m\u001b[0;34m\u001b[0m\u001b[0;34m\u001b[0m\u001b[0m\n",
      "\u001b[0;32m/usr/local/lib/python3.6/dist-packages/sklearn/metrics/scorer.py\u001b[0m in \u001b[0;36m__call__\u001b[0;34m(self, estimator, X, y_true, sample_weight)\u001b[0m\n\u001b[1;32m    106\u001b[0m         \u001b[0;32melse\u001b[0m\u001b[0;34m:\u001b[0m\u001b[0;34m\u001b[0m\u001b[0;34m\u001b[0m\u001b[0m\n\u001b[1;32m    107\u001b[0m             return self._sign * self._score_func(y_true, y_pred,\n\u001b[0;32m--> 108\u001b[0;31m                                                  **self._kwargs)\n\u001b[0m\u001b[1;32m    109\u001b[0m \u001b[0;34m\u001b[0m\u001b[0m\n\u001b[1;32m    110\u001b[0m \u001b[0;34m\u001b[0m\u001b[0m\n",
      "\u001b[0;32m/usr/local/lib/python3.6/dist-packages/sklearn/metrics/classification.py\u001b[0m in \u001b[0;36mf1_score\u001b[0;34m(y_true, y_pred, labels, pos_label, average, sample_weight)\u001b[0m\n\u001b[1;32m    712\u001b[0m     return fbeta_score(y_true, y_pred, 1, labels=labels,\n\u001b[1;32m    713\u001b[0m                        \u001b[0mpos_label\u001b[0m\u001b[0;34m=\u001b[0m\u001b[0mpos_label\u001b[0m\u001b[0;34m,\u001b[0m \u001b[0maverage\u001b[0m\u001b[0;34m=\u001b[0m\u001b[0maverage\u001b[0m\u001b[0;34m,\u001b[0m\u001b[0;34m\u001b[0m\u001b[0;34m\u001b[0m\u001b[0m\n\u001b[0;32m--> 714\u001b[0;31m                        sample_weight=sample_weight)\n\u001b[0m\u001b[1;32m    715\u001b[0m \u001b[0;34m\u001b[0m\u001b[0m\n\u001b[1;32m    716\u001b[0m \u001b[0;34m\u001b[0m\u001b[0m\n",
      "\u001b[0;32m/usr/local/lib/python3.6/dist-packages/sklearn/metrics/classification.py\u001b[0m in \u001b[0;36mfbeta_score\u001b[0;34m(y_true, y_pred, beta, labels, pos_label, average, sample_weight)\u001b[0m\n\u001b[1;32m    826\u001b[0m                                                  \u001b[0maverage\u001b[0m\u001b[0;34m=\u001b[0m\u001b[0maverage\u001b[0m\u001b[0;34m,\u001b[0m\u001b[0;34m\u001b[0m\u001b[0;34m\u001b[0m\u001b[0m\n\u001b[1;32m    827\u001b[0m                                                  \u001b[0mwarn_for\u001b[0m\u001b[0;34m=\u001b[0m\u001b[0;34m(\u001b[0m\u001b[0;34m'f-score'\u001b[0m\u001b[0;34m,\u001b[0m\u001b[0;34m)\u001b[0m\u001b[0;34m,\u001b[0m\u001b[0;34m\u001b[0m\u001b[0;34m\u001b[0m\u001b[0m\n\u001b[0;32m--> 828\u001b[0;31m                                                  sample_weight=sample_weight)\n\u001b[0m\u001b[1;32m    829\u001b[0m     \u001b[0;32mreturn\u001b[0m \u001b[0mf\u001b[0m\u001b[0;34m\u001b[0m\u001b[0;34m\u001b[0m\u001b[0m\n\u001b[1;32m    830\u001b[0m \u001b[0;34m\u001b[0m\u001b[0m\n",
      "\u001b[0;32m/usr/local/lib/python3.6/dist-packages/sklearn/metrics/classification.py\u001b[0m in \u001b[0;36mprecision_recall_fscore_support\u001b[0;34m(y_true, y_pred, beta, labels, pos_label, average, warn_for, sample_weight)\u001b[0m\n\u001b[1;32m   1038\u001b[0m         \u001b[0;32melse\u001b[0m\u001b[0;34m:\u001b[0m\u001b[0;34m\u001b[0m\u001b[0;34m\u001b[0m\u001b[0m\n\u001b[1;32m   1039\u001b[0m             raise ValueError(\"Target is %s but average='binary'. Please \"\n\u001b[0;32m-> 1040\u001b[0;31m                              \"choose another average setting.\" % y_type)\n\u001b[0m\u001b[1;32m   1041\u001b[0m     \u001b[0;32melif\u001b[0m \u001b[0mpos_label\u001b[0m \u001b[0;32mnot\u001b[0m \u001b[0;32min\u001b[0m \u001b[0;34m(\u001b[0m\u001b[0;32mNone\u001b[0m\u001b[0;34m,\u001b[0m \u001b[0;36m1\u001b[0m\u001b[0;34m)\u001b[0m\u001b[0;34m:\u001b[0m\u001b[0;34m\u001b[0m\u001b[0;34m\u001b[0m\u001b[0m\n\u001b[1;32m   1042\u001b[0m         warnings.warn(\"Note that pos_label (set to %r) is ignored when \"\n",
      "\u001b[0;31mValueError\u001b[0m: Target is multilabel-indicator but average='binary'. Please choose another average setting."
     ]
    }
   ],
   "source": [
    "##Trying to improve accuracy using different models and sklean gridsearch\n",
    "\n",
    "from sklearn.model_selection import GridSearchCV\n",
    "from sklearn.metrics import f1_score\n",
    "from sklearn.metrics import make_scorer, accuracy_score\n",
    "from sklearn.ensemble import RandomForestClassifier,RandomForestRegressor\n",
    "\n",
    "parameters = {\"estimator__C\": [0.1,1,10,100], \"estimator__penalty\":[\"l2\"], \"estimator__solver\" : ['newton-cg','saga','lbfgs'], \"estimator__max_iter\":[500]}\n",
    "#parameters = { \"estimator__solver\" : ['sag'], \"estimator__max_iter\":[500]}\n",
    "#grid={\"estimator__C\":np.logspace(-3,3,7), \"estimator__penalty\":[\"l2\"]}\n",
    "#parameters = { \"estimator__n_estimators\" : [200], \"estimator__oob_score\": [\"TRUE\"],\"min_samples_leaf\" :[1,5,10,50,100,200,500]}\n",
    "#acc_scorer = make_scorer(accuracy_score)\n",
    "\n",
    "\n",
    "#clf = OneVsRestClassifier(RidgeClassifier(), n_jobs=-1)\n",
    "clf = OneVsRestClassifier(LogisticRegression(), n_jobs=-1)\n",
    "#clf = OneVsRestClassifier(RandomForestRegressor(), n_jobs=-1)\n",
    "#clf = GridSearchCV(LogisticRegression(penalty='l2'), param_grid)\n",
    "\n",
    "#clf = ClassifierChain(LogisticRegression())\n",
    "\n",
    "\n",
    "scores = ['precision', 'recall']\n",
    "\n",
    "model_tunning = GridSearchCV(clf, parameters ,scoring='f1', verbose = 10)\n",
    "\n",
    "model_tunning.fit(X_val_mybag, y_val)\n",
    "\n",
    "print(model_tunning.best_score_)\n",
    "print(model_tunning.best_params_)\n",
    "\n",
    "\n",
    "y_val_predicted_labels_mybag = classifier_mybag.predict(X_val_mybag)\n",
    "y_val_predicted_scores_mybag = classifier_mybag.decision_function(X_val_mybag)\n",
    "\n",
    "y_val_predicted_labels_tfidf = classifier_tfidf.predict(X_val_tfidf)\n",
    "y_val_predicted_scores_tfidf = classifier_tfidf.decision_function(X_val_tfidf)\n",
    "\n",
    "\n",
    "\n",
    "f1_score_macro= f1_score(y_val, predicted, average='macro')  \n",
    "print(f1_score_macro)\n",
    "\n",
    "\n",
    "f1_score_micro = f1_score(y_val, predicted, average='micro')  \n",
    "print(f1_score_micro)\n",
    "\n",
    "\n",
    "f1_score_weighted = f1_score(y_val, predicted, average='weighted')\n",
    "print(f1_score_weighted)\n",
    "\n",
    "#n_estimator = 200, oob_score = TRUE, n_jobs = -1,random_state =50, max_features = \"auto\", min_samples_leaf = leaf_size"
   ]
  },
  {
   "cell_type": "markdown",
   "metadata": {
    "colab_type": "text",
    "id": "Vt0J7mIPWVVr"
   },
   "source": [
    "Train the classifiers for different data transformations: *bag-of-words* and *tf-idf*."
   ]
  },
  {
   "cell_type": "code",
   "execution_count": null,
   "metadata": {
    "colab": {},
    "colab_type": "code",
    "id": "TpSkbbJbWVVt"
   },
   "outputs": [],
   "source": [
    "classifier_mybag = train_classifier(X_train_mybag, y_train)\n",
    "classifier_tfidf = train_classifier(X_train_tfidf, y_train)"
   ]
  },
  {
   "cell_type": "code",
   "execution_count": null,
   "metadata": {
    "colab": {},
    "colab_type": "code",
    "id": "E5vf51eGctaa"
   },
   "outputs": [],
   "source": [
    "from scipy.sparse import csr_matrix, find\n",
    "find(X_train_mybag)"
   ]
  },
  {
   "cell_type": "markdown",
   "metadata": {
    "colab_type": "text",
    "id": "DRBTGT3iWVVv"
   },
   "source": [
    "Now you can create predictions for the data. You will need two types of predictions: labels and scores."
   ]
  },
  {
   "cell_type": "code",
   "execution_count": null,
   "metadata": {
    "colab": {},
    "colab_type": "code",
    "id": "sr_kkAMgWVVw"
   },
   "outputs": [],
   "source": [
    "y_val_predicted_labels_mybag = classifier_mybag.predict(X_val_mybag)\n",
    "y_val_predicted_scores_mybag = classifier_mybag.decision_function(X_val_mybag)\n",
    "\n",
    "y_val_predicted_labels_tfidf = classifier_tfidf.predict(X_val_tfidf)\n",
    "y_val_predicted_scores_tfidf = classifier_tfidf.decision_function(X_val_tfidf)"
   ]
  },
  {
   "cell_type": "code",
   "execution_count": 103,
   "metadata": {
    "colab": {
     "base_uri": "https://localhost:8080/",
     "height": 238
    },
    "colab_type": "code",
    "id": "naItrT52rtxx",
    "outputId": "799ccb70-216b-44e3-b0a0-392096c2a835"
   },
   "outputs": [
    {
     "name": "stdout",
     "output_type": "stream",
     "text": [
      "[[-3.57885467 -5.50425118 -5.96220205 ... -6.68008113 -4.16329061\n",
      "  -6.01251812]\n",
      " [-3.133138   -7.1906824  -9.29931694 ... -6.31677012 -4.73315109\n",
      "  -5.18108316]\n",
      " [-7.49004135 -3.34541398 -7.40309329 ... -7.89998124 -7.30376555\n",
      "  -5.98379082]\n",
      " ...\n",
      " [-2.72385773 -4.18247568 -6.54831084 ... -6.52844659 -4.88717551\n",
      "  -6.3027471 ]\n",
      " [-3.30569293 -6.00115876 -6.49374142 ... -7.30760055 -5.06700111\n",
      "  -7.34497848]\n",
      " [-3.86978646 -4.12274056 -7.15937645 ... -6.9216675  -4.46513296\n",
      "  -4.91998939]]\n"
     ]
    }
   ],
   "source": [
    "print(y_val_predicted_scores_mybag)"
   ]
  },
  {
   "cell_type": "markdown",
   "metadata": {
    "colab_type": "text",
    "id": "gvpyUf0TWVV0"
   },
   "source": [
    "Now take a look at how classifier, which uses TF-IDF, works for a few examples:"
   ]
  },
  {
   "cell_type": "code",
   "execution_count": 116,
   "metadata": {
    "colab": {
     "base_uri": "https://localhost:8080/",
     "height": 867
    },
    "colab_type": "code",
    "id": "IAXhA6Z8WVV1",
    "outputId": "cc3c9d74-b2af-48f1-eb05-19ea5420bcc8"
   },
   "outputs": [
    {
     "name": "stdout",
     "output_type": "stream",
     "text": [
      "Title:\todbc_exec always fail\n",
      "True labels:\tphp,sql\n",
      "Predicted labels:\t\n",
      "\n",
      "\n",
      "Title:\taccess base classes variable within child class\n",
      "True labels:\tjavascript\n",
      "Predicted labels:\t\n",
      "\n",
      "\n",
      "Title:\tcontenttype application json required rails\n",
      "True labels:\truby,ruby-on-rails\n",
      "Predicted labels:\truby-on-rails\n",
      "\n",
      "\n",
      "Title:\tsessions sinatra used pass variable\n",
      "True labels:\truby,session\n",
      "Predicted labels:\t\n",
      "\n",
      "\n",
      "Title:\tgetting error type json exist postgresql rake db migrate\n",
      "True labels:\tjson,ruby,ruby-on-rails\n",
      "Predicted labels:\t\n",
      "\n",
      "\n",
      "Title:\tlibrary found\n",
      "True labels:\tc++,ios,iphone,xcode\n",
      "Predicted labels:\t\n",
      "\n",
      "\n",
      "Title:\tcsproj file programmatic adding deleting files\n",
      "True labels:\tc#\n",
      "Predicted labels:\t\n",
      "\n",
      "\n",
      "Title:\ttypeerror makedirs got unexpected keyword argument exists_ok\n",
      "True labels:\tdjango,python\n",
      "Predicted labels:\t\n",
      "\n",
      "\n",
      "Title:\tpan div using jquery\n",
      "True labels:\thtml,javascript,jquery\n",
      "Predicted labels:\tjavascript,jquery\n",
      "\n",
      "\n",
      "Title:\thibernate intermediate advanced tutorials\n",
      "True labels:\thibernate,java\n",
      "Predicted labels:\tjava\n",
      "\n",
      "\n"
     ]
    }
   ],
   "source": [
    "y_val_pred_inversed = mlb.inverse_transform(y_val_predicted_labels_tfidf)\n",
    "y_val_inversed = mlb.inverse_transform(y_val)\n",
    "for i in range(10):\n",
    "    print('Title:\\t{}\\nTrue labels:\\t{}\\nPredicted labels:\\t{}\\n\\n'.format(\n",
    "        X_val[i],\n",
    "        ','.join(y_val_inversed[i]),\n",
    "        ','.join(y_val_pred_inversed[i])\n",
    "    ))"
   ]
  },
  {
   "cell_type": "markdown",
   "metadata": {
    "colab_type": "text",
    "id": "4YgYod9qWVV3"
   },
   "source": [
    "Now, we would need to compare the results of different predictions, e.g. to see whether TF-IDF transformation helps or to try different regularization techniques in logistic regression. For all these experiments, we need to setup evaluation procedure. "
   ]
  },
  {
   "cell_type": "markdown",
   "metadata": {
    "colab_type": "text",
    "id": "IuYW3bKEWVV3"
   },
   "source": [
    "### Evaluation\n",
    "\n",
    "To evaluate the results we will use several classification metrics:\n",
    " - [Accuracy](http://scikit-learn.org/stable/modules/generated/sklearn.metrics.accuracy_score.html)\n",
    " - [F1-score](http://scikit-learn.org/stable/modules/generated/sklearn.metrics.f1_score.html)\n",
    " - [Area under ROC-curve](http://scikit-learn.org/stable/modules/generated/sklearn.metrics.roc_auc_score.html)\n",
    " - [Area under precision-recall curve](http://scikit-learn.org/stable/modules/generated/sklearn.metrics.average_precision_score.html#sklearn.metrics.average_precision_score) \n",
    " \n",
    "Make sure you are familiar with all of them. How would you expect the things work for the multi-label scenario? Read about micro/macro/weighted averaging following the sklearn links provided above."
   ]
  },
  {
   "cell_type": "code",
   "execution_count": null,
   "metadata": {
    "colab": {},
    "colab_type": "code",
    "id": "S90Tg8eLWVV4"
   },
   "outputs": [],
   "source": [
    "from sklearn.metrics import accuracy_score\n",
    "from sklearn.metrics import f1_score\n",
    "from sklearn.metrics import roc_auc_score \n",
    "from sklearn.metrics import average_precision_score\n",
    "from sklearn.metrics import recall_score"
   ]
  },
  {
   "cell_type": "markdown",
   "metadata": {
    "colab_type": "text",
    "id": "H52Uj3qEWVV5"
   },
   "source": [
    "Implement the function *print_evaluation_scores* which calculates and prints to stdout:\n",
    " - *accuracy*\n",
    " - *F1-score macro/micro/weighted*\n",
    " - *Precision macro/micro/weighted*"
   ]
  },
  {
   "cell_type": "code",
   "execution_count": null,
   "metadata": {
    "colab": {},
    "colab_type": "code",
    "id": "M0EaBReRWVV6"
   },
   "outputs": [],
   "source": [
    "def print_evaluation_scores(y_val, predicted):\n",
    "    \n",
    "    ######################################\n",
    "    ######### YOUR CODE HERE #############\n",
    "    ######################################\n",
    "    \n",
    "    acc = accuracy_score(y_val, predicted)\n",
    "    \n",
    "    print(acc)\n",
    "    \n",
    "    f1_score_macro= f1_score(y_val, predicted, average='macro')  \n",
    "    \n",
    "    \n",
    "\n",
    "    f1_score_micro = f1_score(y_val, predicted, average='micro')  \n",
    "\n",
    "    f1_score_weighted = f1_score(y_val, predicted, average='weighted')\n",
    "    \n",
    "    print(f1_score_macro, f1_score_micro,f1_score_weighted)\n",
    "    \n",
    "    \n",
    "    \n",
    "    precision_score = average_precision_score(y_val, predicted)\n",
    "    \n",
    "    print(precision_score)\n",
    "    "
   ]
  },
  {
   "cell_type": "code",
   "execution_count": 129,
   "metadata": {
    "colab": {
     "base_uri": "https://localhost:8080/",
     "height": 153
    },
    "colab_type": "code",
    "id": "Mny19NZaWVV9",
    "outputId": "37e8b598-0c93-4911-c7ff-ebd2aae5b4dc"
   },
   "outputs": [
    {
     "name": "stdout",
     "output_type": "stream",
     "text": [
      "Bag-of-words\n",
      "0.3680333333333333\n",
      "0.5191242261994741 0.6801789295079438 0.658161520294896\n",
      "0.3580218228426178\n",
      "Tfidf\n",
      "0.33426666666666666\n",
      "0.49656120583691277 0.6511146547263261 0.6270452552322126\n",
      "0.3373693831299587\n"
     ]
    }
   ],
   "source": [
    "print('Bag-of-words')\n",
    "print_evaluation_scores(y_val, y_val_predicted_labels_mybag)\n",
    "print('Tfidf')\n",
    "print_evaluation_scores(y_val, y_val_predicted_labels_tfidf)"
   ]
  },
  {
   "cell_type": "markdown",
   "metadata": {
    "colab_type": "text",
    "id": "wFYHfDFHWVV_"
   },
   "source": [
    "You might also want to plot some generalization of the [ROC curve](http://scikit-learn.org/stable/modules/model_evaluation.html#receiver-operating-characteristic-roc) for the case of multi-label classification. Provided function *roc_auc* can make it for you. The input parameters of this function are:\n",
    " - true labels\n",
    " - decision functions scores\n",
    " - number of classes"
   ]
  },
  {
   "cell_type": "code",
   "execution_count": null,
   "metadata": {
    "colab": {},
    "colab_type": "code",
    "id": "vsw_wOTMWVV_"
   },
   "outputs": [],
   "source": [
    "from metrics import roc_auc\n",
    "%matplotlib inline"
   ]
  },
  {
   "cell_type": "code",
   "execution_count": 247,
   "metadata": {
    "colab": {
     "base_uri": "https://localhost:8080/",
     "height": 294
    },
    "colab_type": "code",
    "id": "6wHb1DyfWVWC",
    "outputId": "388b9f83-9751-4e99-9a3b-8a2ac5291cb8"
   },
   "outputs": [
    {
     "data": {
      "image/png": "[encoded data removed]",
      "text/plain": [
       "<matplotlib.figure.Figure at 0x7f19495c1e10>"
      ]
     },
     "metadata": {
      "tags": []
     },
     "output_type": "display_data"
    }
   ],
   "source": [
    "n_classes = len(tags_counts)\n",
    "roc_auc(y_val, y_val_predicted_scores_mybag, n_classes)"
   ]
  },
  {
   "cell_type": "code",
   "execution_count": 248,
   "metadata": {
    "colab": {
     "base_uri": "https://localhost:8080/",
     "height": 294
    },
    "colab_type": "code",
    "id": "BNWLG12oWVWD",
    "outputId": "edf136a2-5ade-4c74-8fa9-4e33e9c24dc0"
   },
   "outputs": [
    {
     "data": {
      "image/png": "[encoded data removed]",
      "text/plain": [
       "<matplotlib.figure.Figure at 0x7f1949552908>"
      ]
     },
     "metadata": {
      "tags": []
     },
     "output_type": "display_data"
    }
   ],
   "source": [
    "n_classes = len(tags_counts)\n",
    "roc_auc(y_val, y_val_predicted_scores_tfidf, n_classes)"
   ]
  },
  {
   "cell_type": "markdown",
   "metadata": {
    "colab_type": "text",
    "id": "yb25kne8WVWF"
   },
   "source": [
    "**Task 4 (MultilabelClassification).** Once we have the evaluation set up, we suggest that you experiment a bit with training your classifiers. We will use *F1-score weighted* as an evaluation metric. Our recommendation:\n",
    "- compare the quality of the bag-of-words and TF-IDF approaches and chose one of them.\n",
    "- for the chosen one, try *L1* and *L2*-regularization techniques in Logistic Regression with different coefficients (e.g. C equal to 0.1, 1, 10, 100).\n",
    "\n",
    "You also could try other improvements of the preprocessing / model, if you want. "
   ]
  },
  {
   "cell_type": "code",
   "execution_count": null,
   "metadata": {
    "colab": {},
    "colab_type": "code",
    "id": "eYPc6jbcWVWG"
   },
   "outputs": [],
   "source": [
    "y_test_predicted_labels_mybag = classifier_mybag.predict(X_test_mybag)\n",
    "y_test_predicted_scores_mybag = classifier_mybag.decision_function(X_test_mybag)\n",
    "\n",
    "y_test_predicted_labels_tfidf = classifier_tfidf.predict(X_test_tfidf)\n",
    "y_test_predicted_scores_tfidf = classifier_tfidf.decision_function(X_test_tfidf)\n"
   ]
  },
  {
   "cell_type": "markdown",
   "metadata": {
    "colab_type": "text",
    "id": "ot5DEKWlWVWH"
   },
   "source": [
    "When you are happy with the quality, create predictions for *test* set, which you will submit to Coursera."
   ]
  },
  {
   "cell_type": "code",
   "execution_count": 131,
   "metadata": {
    "colab": {
     "base_uri": "https://localhost:8080/",
     "height": 170
    },
    "colab_type": "code",
    "id": "IhjblGfyWVWI",
    "outputId": "cb8f1bda-391a-48af-884d-0d655ee56461"
   },
   "outputs": [
    {
     "name": "stdout",
     "output_type": "stream",
     "text": [
      "Current answer for task MultilabelClassification is:\n",
      " 0\tmysql,php\n",
      "1\tjavascript\n",
      "2\t\n",
      "3\tjavascript,jquery\n",
      "4\tandroid,java\n",
      "5\tphp,xml\n",
      "6\tjson,web-services\n",
      "7\tjava,...\n"
     ]
    }
   ],
   "source": [
    "y_test_predicted_labels_mybag = classifier_mybag.predict(X_test_mybag)\n",
    "y_test_predicted_scores_mybag = classifier_mybag.decision_function(X_val_mybag)\n",
    "\n",
    "y_test_predicted_labels_tfidf = classifier_tfidf.predict(X_test_tfidf)\n",
    "y_test_predicted_scores_tfidf = classifier_tfidf.decision_function(X_test_tfidf)\n",
    "\n",
    "\n",
    "\n",
    "test_predictions =y_test_predicted_labels_mybag\n",
    "test_pred_inversed = mlb.inverse_transform(test_predictions)\n",
    "\n",
    "test_predictions_for_submission = '\\n'.join('%i\\t%s' % (i, ','.join(row)) for i, row in enumerate(test_pred_inversed))\n",
    "grader.submit_tag('MultilabelClassification', test_predictions_for_submission)"
   ]
  },
  {
   "cell_type": "markdown",
   "metadata": {
    "colab_type": "text",
    "id": "uZADIREFWVWJ"
   },
   "source": [
    "### Analysis of the most important features"
   ]
  },
  {
   "cell_type": "markdown",
   "metadata": {
    "colab_type": "text",
    "id": "UjdnitYAWVWJ"
   },
   "source": [
    "Finally, it is usually a good idea to look at the features (words or n-grams) that are used with the largest weigths in your logistic regression model."
   ]
  },
  {
   "cell_type": "markdown",
   "metadata": {
    "colab_type": "text",
    "id": "nQyydTm5WVWL"
   },
   "source": [
    "Implement the function *print_words_for_tag* to find them. Get back to sklearn documentation on [OneVsRestClassifier](http://scikit-learn.org/stable/modules/generated/sklearn.multiclass.OneVsRestClassifier.html) and [LogisticRegression](http://scikit-learn.org/stable/modules/generated/sklearn.linear_model.LogisticRegression.html) if needed."
   ]
  },
  {
   "cell_type": "code",
   "execution_count": null,
   "metadata": {
    "colab": {},
    "colab_type": "code",
    "id": "yWRcbr81WVWM"
   },
   "outputs": [],
   "source": [
    "def print_words_for_tag(classifier, tag, tags_classes, index_to_words, all_words):\n",
    "    \"\"\"\n",
    "        classifier: trained classifier\n",
    "        tag: particular tag\n",
    "        tags_classes: a list of classes names from MultiLabelBinarizer\n",
    "        index_to_words: index_to_words transformation\n",
    "        all_words: all words in the dictionary\n",
    "        \n",
    "        return nothing, just print top 5 positive and top 5 negative words for current tag\n",
    "    \"\"\"\n",
    "    print('Tag:\\t{}'.format(tag))\n",
    "    \n",
    "\n",
    "    \n",
    "    ##Obtaining the index of the tag from mlb.classes\n",
    "    tag_index = mlb.classes.index(tag)\n",
    "    \n",
    "    \n",
    "    ##Obtaining a list of positive elements\n",
    "    p=[]\n",
    "    for x in list(classifier_tfidf.coef_[tag_index]):\n",
    "      if x>0:\n",
    "        p.append((list(classifier_tfidf.coef_[tag_index]).index(x),x))\n",
    "    ##Sorting    \n",
    "    p = sorted(p, key=lambda x: x[1], reverse=True)    \n",
    "    \n",
    "    ##Obtaining top 5 positive indices \n",
    "    top_5_pos_indices = [x[0] for x in p[0:5]]\n",
    "    \n",
    "    \n",
    "    top_positive_words = [tfidf_reversed_vocab[x] for x in top_5_pos_indices]\n",
    "     \n",
    "    ##Obtaining a list of negative elements\n",
    "    \n",
    "    \n",
    "    n=[]\n",
    "    for x in list(classifier_tfidf.coef_[tag_index]):\n",
    "      if x<0:\n",
    "        n.append((list(classifier_tfidf.coef_[tag_index]).index(x),x))\n",
    "    \n",
    "    \n",
    "    n= sorted(n, key=lambda x: x[1])\n",
    "    \n",
    "    top_5_neg_indices = [x[0] for x in n[0:5]]\n",
    "    \n",
    "    top_negative_words = [tfidf_reversed_vocab[x] for x in top_5_neg_indices]\n",
    "    \n",
    "    #top_positive_words = # top-5 words sorted by the coefficiens.\n",
    "    #top_negative_words = # bottom-5 words  sorted by the coefficients.\n",
    "    print('Top positive words:\\t{}'.format(', '.join(top_positive_words)))\n",
    "    print('Top negative words:\\t{}\\n'.format(', '.join(top_negative_words)))\n",
    "    "
   ]
  },
  {
   "cell_type": "code",
   "execution_count": 245,
   "metadata": {
    "colab": {
     "base_uri": "https://localhost:8080/",
     "height": 221
    },
    "colab_type": "code",
    "id": "W1jMoUDDWVWN",
    "outputId": "a9228db3-9654-45e0-a3f6-77dabe8db916"
   },
   "outputs": [
    {
     "name": "stdout",
     "output_type": "stream",
     "text": [
      "Tag:\tc\n",
      "Top positive words:\tscanf, malloc, printf, kernel, fscanf\n",
      "Top negative words:\tphp, javascript, java, jquery, python\n",
      "\n",
      "Tag:\tc++\n",
      "Top positive words:\tqt, boost, mfc, stdstring, stl\n",
      "Top negative words:\tphp, jquery, javascript, java, django\n",
      "\n",
      "Tag:\tlinux\n",
      "Top positive words:\tlinux, kernel space, system call, signal, ubuntu\n",
      "Top negative words:\tjavascript, jquery, aspnet, array, method\n",
      "\n"
     ]
    }
   ],
   "source": [
    "print_words_for_tag(classifier_tfidf, 'c', mlb.classes, tfidf_reversed_vocab, ALL_WORDS)\n",
    "print_words_for_tag(classifier_tfidf, 'c++', mlb.classes, tfidf_reversed_vocab, ALL_WORDS)\n",
    "print_words_for_tag(classifier_tfidf, 'linux', mlb.classes, tfidf_reversed_vocab, ALL_WORDS)\n"
   ]
  },
  {
   "cell_type": "code",
   "execution_count": null,
   "metadata": {
    "colab": {},
    "colab_type": "code",
    "id": "CvcOqwnWi0gc"
   },
   "outputs": [],
   "source": []
  },
  {
   "cell_type": "code",
   "execution_count": null,
   "metadata": {
    "colab": {},
    "colab_type": "code",
    "id": "eKg-smVAuuZ6"
   },
   "outputs": [],
   "source": []
  }
 ],
 "metadata": {
  "accelerator": "GPU",
  "colab": {
   "collapsed_sections": [
    "IuYW3bKEWVV3",
    "uZADIREFWVWJ",
    "ceRzTqN8WVWP"
   ],
   "name": "week1-MultilabelClassification.ipynb",
   "provenance": [],
   "toc_visible": true,
   "version": "0.3.2"
  },
  "kernelspec": {
   "display_name": "Python 3",
   "language": "python",
   "name": "python3"
  },
  "language_info": {
   "codemirror_mode": {
    "name": "ipython",
    "version": 3
   },
   "file_extension": ".py",
   "mimetype": "text/x-python",
   "name": "python",
   "nbconvert_exporter": "python",
   "pygments_lexer": "ipython3",
   "version": "3.6.3"
  }
 },
 "nbformat": 4,
 "nbformat_minor": 2
}
